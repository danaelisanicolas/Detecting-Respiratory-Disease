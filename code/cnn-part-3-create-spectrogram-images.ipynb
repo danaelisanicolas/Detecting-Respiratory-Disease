{
 "cells": [
  {
   "cell_type": "code",
   "execution_count": 1,
   "metadata": {},
   "outputs": [
    {
     "name": "stdout",
     "output_type": "stream",
     "text": [
      "train  val\r\n"
     ]
    }
   ],
   "source": [
    "!ls '../input/cnn-part-2-split-to-train-and-test/output'"
   ]
  },
  {
   "cell_type": "code",
   "execution_count": 2,
   "metadata": {
    "_cell_guid": "b1076dfc-b9ad-4769-8c92-a6c4dae69d19",
    "_uuid": "8f2839f25d086af736a60e9eeb907d3b93b6e0e5"
   },
   "outputs": [],
   "source": [
    "import librosa as lb\n",
    "from librosa.display import specshow\n",
    "\n",
    "import matplotlib.pyplot as plt\n",
    "\n",
    "import os\n",
    "from os import listdir\n",
    "from os.path import isfile, join\n",
    "\n",
    "import pandas as pd"
   ]
  },
  {
   "cell_type": "code",
   "execution_count": 3,
   "metadata": {
    "_cell_guid": "79c7e3d0-c299-4dcb-8224-4455121ee9b0",
    "_uuid": "d629ff2d2480ee46fbb7e2d37f6b5fab8052498a",
    "collapsed": true
   },
   "outputs": [],
   "source": [
    "os.makedirs('output')\n",
    "os.makedirs('output/train')\n",
    "os.makedirs('output/val')"
   ]
  },
  {
   "cell_type": "code",
   "execution_count": 4,
   "metadata": {},
   "outputs": [],
   "source": [
    "files_loc = '../input/cnn-part-2-split-to-train-and-test/output/'"
   ]
  },
  {
   "cell_type": "code",
   "execution_count": 5,
   "metadata": {},
   "outputs": [
    {
     "data": {
      "text/html": [
       "<div>\n",
       "<style scoped>\n",
       "    .dataframe tbody tr th:only-of-type {\n",
       "        vertical-align: middle;\n",
       "    }\n",
       "\n",
       "    .dataframe tbody tr th {\n",
       "        vertical-align: top;\n",
       "    }\n",
       "\n",
       "    .dataframe thead th {\n",
       "        text-align: right;\n",
       "    }\n",
       "</style>\n",
       "<table border=\"1\" class=\"dataframe\">\n",
       "  <thead>\n",
       "    <tr style=\"text-align: right;\">\n",
       "      <th></th>\n",
       "      <th>pId</th>\n",
       "      <th>diagnosis</th>\n",
       "    </tr>\n",
       "  </thead>\n",
       "  <tbody>\n",
       "    <tr>\n",
       "      <th>0</th>\n",
       "      <td>101</td>\n",
       "      <td>URTI</td>\n",
       "    </tr>\n",
       "    <tr>\n",
       "      <th>1</th>\n",
       "      <td>102</td>\n",
       "      <td>Healthy</td>\n",
       "    </tr>\n",
       "    <tr>\n",
       "      <th>2</th>\n",
       "      <td>103</td>\n",
       "      <td>Asthma</td>\n",
       "    </tr>\n",
       "    <tr>\n",
       "      <th>3</th>\n",
       "      <td>104</td>\n",
       "      <td>COPD</td>\n",
       "    </tr>\n",
       "    <tr>\n",
       "      <th>4</th>\n",
       "      <td>105</td>\n",
       "      <td>URTI</td>\n",
       "    </tr>\n",
       "  </tbody>\n",
       "</table>\n",
       "</div>"
      ],
      "text/plain": [
       "   pId diagnosis\n",
       "0  101      URTI\n",
       "1  102   Healthy\n",
       "2  103    Asthma\n",
       "3  104      COPD\n",
       "4  105      URTI"
      ]
     },
     "execution_count": 5,
     "metadata": {},
     "output_type": "execute_result"
    }
   ],
   "source": [
    "diagnosis_csv = '../input/respiratory-sound-database/Respiratory_Sound_Database/Respiratory_Sound_Database/patient_diagnosis.csv'\n",
    "diagnosis = pd.read_csv(diagnosis_csv, names=['pId', 'diagnosis'])\n",
    "diagnosis.head()"
   ]
  },
  {
   "cell_type": "code",
   "execution_count": 6,
   "metadata": {},
   "outputs": [
    {
     "data": {
      "text/plain": [
       "array(['URTI', 'Healthy', 'Asthma', 'COPD', 'LRTI', 'Bronchiectasis',\n",
       "       'Pneumonia', 'Bronchiolitis'], dtype=object)"
      ]
     },
     "execution_count": 6,
     "metadata": {},
     "output_type": "execute_result"
    }
   ],
   "source": [
    "categories = diagnosis['diagnosis'].unique()\n",
    "categories"
   ]
  },
  {
   "cell_type": "code",
   "execution_count": 7,
   "metadata": {},
   "outputs": [],
   "source": [
    "def is_wav(filename):\n",
    "    '''\n",
    "        Checks if files are .wav files\n",
    "        Utility tool in converting wav to png files\n",
    "    '''\n",
    "    return filename.split('.')[-1] == 'wav'"
   ]
  },
  {
   "cell_type": "code",
   "execution_count": 8,
   "metadata": {},
   "outputs": [],
   "source": [
    "#create images using librosa spectogram\n",
    "def convert_to_spec_image(file_loc, filename, category, is_train=False, verbose=False):\n",
    "    ''' \n",
    "        Converts audio file to spec image\n",
    "        Input file includes path\n",
    "        Saves the file to a png image in the save_directory\n",
    "    '''\n",
    "    train_ = 'train/'\n",
    "    val = 'val/'\n",
    "    \n",
    "    loc = file_loc + train_ + category + '/' + filename\n",
    "    if is_train == False:\n",
    "        loc = file_loc + test_ + category + '/' + filename\n",
    "\n",
    "    if verbose == True:\n",
    "        print('reading and converting ' + filename + '...')\n",
    "        \n",
    "    y, sr = lb.load(loc)\n",
    "\n",
    "    #Plot signal in\n",
    "    plt.figure(figsize=(10,3))\n",
    "    src_ft = lb.stft(y)\n",
    "    src_db = lb.amplitude_to_db(abs(src_ft))\n",
    "    specshow(src_db, sr=sr, x_axis='time', y_axis='hz')  \n",
    "    plt.ylim(0, 5000)\n",
    "    \n",
    "    save_directory = 'output/'\n",
    "    filename_img = filename.split('.wav')[0]\n",
    "    \n",
    "    save_loc = save_directory + train_ + category + '/' + filename_img + '.png'\n",
    "    if is_train == False:\n",
    "        save_loc = save_directory + test_ + category + '/' + filename_img + '.png'\n",
    "        \n",
    "    plt.savefig(save_loc)\n",
    "    \n",
    "    if verbose == True:\n",
    "        print(filename + ' converted!')\n",
    "        \n",
    "    plt.close()"
   ]
  },
  {
   "cell_type": "code",
   "execution_count": 9,
   "metadata": {},
   "outputs": [
    {
     "name": "stdout",
     "output_type": "stream",
     "text": [
      "----------------------------------------------------------------------------------------------------\n",
      "working on URTI...\n",
      "----------------------------------------------------------------------------------------------------\n",
      "['119_1b1_Ar_sc_Meditron_0.wav', '131_1b1_Al_sc_Meditron_1.wav', '210_1b1_Ar_sc_Meditron_4.wav', '164_1b1_Ll_sc_Meditron_8.wav', '210_1b1_Al_sc_Meditron_2.wav', '188_1b1_Ar_sc_Meditron_4.wav', '137_1b1_Ar_sc_Meditron_5.wav', '137_1b1_Ar_sc_Meditron_2.wav', '150_1b2_Al_sc_Meditron_6.wav', '210_1b1_Al_sc_Meditron_3.wav', '188_1b1_Pl_sc_Meditron_13.wav', '188_1b1_Ar_sc_Meditron_12.wav', '101_1b1_Al_sc_Meditron_7.wav', '164_1b1_Ll_sc_Meditron_6.wav', '150_1b2_Al_sc_Meditron_9.wav', '131_1b1_Al_sc_Meditron_5.wav', '164_1b1_Ll_sc_Meditron_4.wav', '129_1b1_Ar_sc_Meditron_1.wav', '188_1b1_Tc_sc_Meditron_1.wav', '188_1b1_Pl_sc_Meditron_5.wav', '101_1b1_Al_sc_Meditron_10.wav', '101_1b1_Pr_sc_Meditron_2.wav', '131_1b1_Al_sc_Meditron_3.wav', '188_1b1_Al_sc_Meditron_14.wav', '137_1b1_Ll_sc_Meditron_4.wav', '165_1b1_Pl_sc_Meditron_3.wav', '164_1b1_Ll_sc_Meditron_1.wav', '101_1b1_Pr_sc_Meditron_9.wav', '101_1b1_Al_sc_Meditron_3.wav', '101_1b1_Pr_sc_Meditron_4.wav', '101_1b1_Pr_sc_Meditron_5.wav', '164_1b1_Ll_sc_Meditron_2.wav', '210_1b1_Al_sc_Meditron_15.wav', '150_1b2_Al_sc_Meditron_0.wav', '188_1b1_Ar_sc_Meditron_3.wav', '210_1b1_Al_sc_Meditron_11.wav', '105_1b1_Tc_sc_Meditron_2.wav', '150_1b2_Al_sc_Meditron_16.wav', '148_1b1_Al_sc_Meditron_9.wav', '188_1b1_Tc_sc_Meditron_6.wav', '188_1b1_Pl_sc_Meditron_2.wav', '105_1b1_Tc_sc_Meditron_5.wav', '137_1b1_Ll_sc_Meditron_5.wav', '190_1b1_Tc_sc_Meditron_3.wav', '188_1b1_Al_sc_Meditron_11.wav', '188_1b1_Al_sc_Meditron_12.wav', '188_1b1_Tc_sc_Meditron_14.wav', '188_1b1_Pl_sc_Meditron_9.wav', '188_1b1_Pl_sc_Meditron_0.wav', '137_1b1_Ll_sc_Meditron_3.wav', '119_1b1_Ar_sc_Meditron_8.wav', '188_1b1_Ar_sc_Meditron_14.wav', '148_1b1_Al_sc_Meditron_5.wav', '131_1b1_Al_sc_Meditron_4.wav', '210_1b1_Ar_sc_Meditron_12.wav', '150_1b2_Al_sc_Meditron_4.wav', '105_1b1_Tc_sc_Meditron_0.wav', '119_1b1_Ar_sc_Meditron_1.wav', '150_1b2_Al_sc_Meditron_14.wav', '188_1b1_Ar_sc_Meditron_11.wav', '165_1b1_Ar_sc_Meditron_1.wav', '164_1b1_Ll_sc_Meditron_7.wav', '101_1b1_Al_sc_Meditron_4.wav', '150_1b2_Al_sc_Meditron_11.wav', '129_1b1_Ar_sc_Meditron_8.wav', '190_1b1_Tc_sc_Meditron_1.wav', '188_1b1_Al_sc_Meditron_13.wav', '188_1b1_Ar_sc_Meditron_6.wav', '137_1b1_Ll_sc_Meditron_1.wav', '210_1b1_Ar_sc_Meditron_6.wav', '165_1b1_Pr_sc_Meditron_0.wav', '188_1b1_Tc_sc_Meditron_13.wav', '101_1b1_Al_sc_Meditron_1.wav', '150_1b2_Al_sc_Meditron_15.wav', '105_1b1_Tc_sc_Meditron_3.wav', '164_1b1_Ll_sc_Meditron_9.wav', '188_1b1_Al_sc_Meditron_7.wav', '165_1b1_Ar_sc_Meditron_4.wav', '210_1b1_Al_sc_Meditron_13.wav', '101_1b1_Al_sc_Meditron_8.wav', '188_1b1_Al_sc_Meditron_4.wav', '148_1b1_Al_sc_Meditron_4.wav', '188_1b1_Al_sc_Meditron_1.wav', '210_1b1_Ar_sc_Meditron_10.wav', '119_1b1_Ar_sc_Meditron_3.wav', '210_1b1_Ar_sc_Meditron_1.wav', '165_1b1_Pl_sc_Meditron_6.wav', '188_1b1_Al_sc_Meditron_5.wav', '188_1b1_Tc_sc_Meditron_3.wav', '131_1b1_Al_sc_Meditron_7.wav', '101_1b1_Pr_sc_Meditron_10.wav', '188_1b1_Pl_sc_Meditron_6.wav', '137_1b1_Ll_sc_Meditron_6.wav', '188_1b1_Pl_sc_Meditron_10.wav', '101_1b1_Al_sc_Meditron_11.wav', '119_1b1_Ar_sc_Meditron_5.wav', '165_1b1_Pr_sc_Meditron_4.wav', '165_1b1_Pr_sc_Meditron_1.wav', '210_1b1_Ar_sc_Meditron_2.wav', '188_1b1_Tc_sc_Meditron_15.wav', '137_1b1_Ll_sc_Meditron_2.wav', '165_1b1_Pl_sc_Meditron_1.wav', '188_1b1_Al_sc_Meditron_0.wav', '165_1b1_Ar_sc_Meditron_3.wav', '129_1b1_Ar_sc_Meditron_4.wav', '148_1b1_Al_sc_Meditron_6.wav', '101_1b1_Pr_sc_Meditron_7.wav', '129_1b1_Ar_sc_Meditron_6.wav', '210_1b1_Ar_sc_Meditron_0.wav', '119_1b1_Ar_sc_Meditron_6.wav', '137_1b1_Ll_sc_Meditron_7.wav', '165_1b1_Ar_sc_Meditron_6.wav', '210_1b1_Al_sc_Meditron_16.wav', '188_1b1_Pl_sc_Meditron_8.wav', '190_1b1_Tc_sc_Meditron_0.wav', '148_1b1_Al_sc_Meditron_8.wav', '188_1b1_Pl_sc_Meditron_12.wav', '165_1b1_Pl_sc_Meditron_0.wav', '165_1b1_Pl_sc_Meditron_5.wav', '165_1b1_Pr_sc_Meditron_2.wav', '188_1b1_Ar_sc_Meditron_10.wav', '210_1b1_Al_sc_Meditron_8.wav', '188_1b1_Ar_sc_Meditron_15.wav', '137_1b1_Ar_sc_Meditron_7.wav', '101_1b1_Al_sc_Meditron_5.wav', '210_1b1_Al_sc_Meditron_17.wav', '137_1b1_Ar_sc_Meditron_1.wav', '137_1b1_Ar_sc_Meditron_4.wav', '210_1b1_Al_sc_Meditron_7.wav', '101_1b1_Al_sc_Meditron_6.wav', '188_1b1_Tc_sc_Meditron_2.wav', '101_1b1_Pr_sc_Meditron_8.wav', '210_1b1_Al_sc_Meditron_5.wav', '164_1b1_Ll_sc_Meditron_5.wav', '188_1b1_Tc_sc_Meditron_9.wav', '188_1b1_Al_sc_Meditron_10.wav', '165_1b1_Pr_sc_Meditron_3.wav', '188_1b1_Al_sc_Meditron_2.wav', '131_1b1_Al_sc_Meditron_10.wav', '188_1b1_Al_sc_Meditron_8.wav', '164_1b1_Ll_sc_Meditron_0.wav', '129_1b1_Ar_sc_Meditron_5.wav', '188_1b1_Ar_sc_Meditron_1.wav', '197_1b1_Al_sc_Meditron_2.wav', '188_1b1_Tc_sc_Meditron_5.wav', '188_1b1_Tc_sc_Meditron_10.wav', '210_1b1_Al_sc_Meditron_1.wav', '188_1b1_Ar_sc_Meditron_16.wav', '165_1b1_Ar_sc_Meditron_0.wav', '129_1b1_Ar_sc_Meditron_0.wav', '210_1b1_Al_sc_Meditron_12.wav', '165_1b1_Pl_sc_Meditron_4.wav', '101_1b1_Pr_sc_Meditron_1.wav', '105_1b1_Tc_sc_Meditron_1.wav', '188_1b1_Pl_sc_Meditron_3.wav', '210_1b1_Al_sc_Meditron_10.wav', '188_1b1_Ar_sc_Meditron_7.wav', '165_1b1_Pr_sc_Meditron_5.wav', '210_1b1_Ar_sc_Meditron_9.wav', '165_1b1_Pr_sc_Meditron_7.wav', '210_1b1_Al_sc_Meditron_6.wav', '119_1b1_Ar_sc_Meditron_7.wav', '188_1b1_Ar_sc_Meditron_0.wav', '165_1b1_Ar_sc_Meditron_5.wav', '101_1b1_Pr_sc_Meditron_6.wav', '137_1b1_Ar_sc_Meditron_6.wav', '101_1b1_Al_sc_Meditron_0.wav', '101_1b1_Al_sc_Meditron_9.wav', '188_1b1_Ar_sc_Meditron_5.wav', '165_1b1_Pl_sc_Meditron_2.wav', '148_1b1_Al_sc_Meditron_0.wav', '188_1b1_Tc_sc_Meditron_7.wav', '197_1b1_Tc_sc_Meditron_0.wav', '148_1b1_Al_sc_Meditron_3.wav', '150_1b2_Al_sc_Meditron_2.wav', '105_1b1_Tc_sc_Meditron_6.wav', '197_1b1_Tc_sc_Meditron_1.wav', '210_1b1_Al_sc_Meditron_14.wav', '131_1b1_Al_sc_Meditron_6.wav', '137_1b1_Ar_sc_Meditron_0.wav', '131_1b1_Al_sc_Meditron_9.wav', '210_1b1_Ar_sc_Meditron_11.wav', '131_1b1_Al_sc_Meditron_0.wav', '119_1b1_Ar_sc_Meditron_4.wav', '210_1b1_Al_sc_Meditron_0.wav', '188_1b1_Tc_sc_Meditron_0.wav', '210_1b1_Ar_sc_Meditron_8.wav', '119_1b1_Ar_sc_Meditron_2.wav', '101_1b1_Pr_sc_Meditron_0.wav', '210_1b1_Ar_sc_Meditron_7.wav', '129_1b1_Ar_sc_Meditron_7.wav', '137_1b1_Ll_sc_Meditron_8.wav', '131_1b1_Al_sc_Meditron_8.wav', '137_1b1_Ll_sc_Meditron_0.wav']\n"
     ]
    },
    {
     "ename": "TypeError",
     "evalue": "convert_to_spec_image() got an unexpected keyword argument 'audio_loc'",
     "output_type": "error",
     "traceback": [
      "\u001b[0;31m---------------------------------------------------------------------------\u001b[0m",
      "\u001b[0;31mTypeError\u001b[0m                                 Traceback (most recent call last)",
      "\u001b[0;32m<ipython-input-9-7346e573425f>\u001b[0m in \u001b[0;36m<module>\u001b[0;34m\u001b[0m\n\u001b[1;32m     10\u001b[0m         \u001b[0mprint\u001b[0m\u001b[0;34m(\u001b[0m\u001b[0mfiles\u001b[0m\u001b[0;34m)\u001b[0m\u001b[0;34m\u001b[0m\u001b[0m\n\u001b[1;32m     11\u001b[0m         \u001b[0;32mfor\u001b[0m \u001b[0mf\u001b[0m \u001b[0;32min\u001b[0m \u001b[0mfiles\u001b[0m\u001b[0;34m:\u001b[0m\u001b[0;34m\u001b[0m\u001b[0m\n\u001b[0;32m---> 12\u001b[0;31m             \u001b[0mconvert_to_spec_image\u001b[0m\u001b[0;34m(\u001b[0m\u001b[0maudio_loc\u001b[0m \u001b[0;34m=\u001b[0m \u001b[0mfiles_loc\u001b[0m\u001b[0;34m,\u001b[0m \u001b[0mcategory\u001b[0m\u001b[0;34m=\u001b[0m\u001b[0mcat\u001b[0m\u001b[0;34m,\u001b[0m \u001b[0mfilename\u001b[0m\u001b[0;34m=\u001b[0m\u001b[0mf\u001b[0m\u001b[0;34m,\u001b[0m \u001b[0mis_train\u001b[0m\u001b[0;34m=\u001b[0m\u001b[0;34m(\u001b[0m\u001b[0ms\u001b[0m \u001b[0;34m==\u001b[0m \u001b[0;34m'train'\u001b[0m\u001b[0;34m)\u001b[0m\u001b[0;34m,\u001b[0m \u001b[0mverbose\u001b[0m\u001b[0;34m=\u001b[0m\u001b[0;32mTrue\u001b[0m\u001b[0;34m)\u001b[0m\u001b[0;34m\u001b[0m\u001b[0m\n\u001b[0m",
      "\u001b[0;31mTypeError\u001b[0m: convert_to_spec_image() got an unexpected keyword argument 'audio_loc'"
     ]
    }
   ],
   "source": [
    "split = ['train', 'val']\n",
    "\n",
    "for s in split:\n",
    "    for cat in categories:\n",
    "        print('-' * 100)\n",
    "        print('working on ' + cat + '...')\n",
    "        print('-' * 100)\n",
    "\n",
    "        files = [f for f in listdir(files_loc + s + '/' + cat + '/') if isfile(join(files_loc + s + '/' + cat + '/', f)) and is_wav(f)]\n",
    "        print(files)\n",
    "        for f in files:\n",
    "            convert_to_spec_image(audio_loc = files_loc, category=cat, filename=f, is_train=(s == 'train'), verbose=True)"
   ]
  }
 ],
 "metadata": {
  "kernelspec": {
   "display_name": "Python 3",
   "language": "python",
   "name": "python3"
  },
  "language_info": {
   "codemirror_mode": {
    "name": "ipython",
    "version": 3
   },
   "file_extension": ".py",
   "mimetype": "text/x-python",
   "name": "python",
   "nbconvert_exporter": "python",
   "pygments_lexer": "ipython3",
   "version": "3.6.6"
  }
 },
 "nbformat": 4,
 "nbformat_minor": 1
}
