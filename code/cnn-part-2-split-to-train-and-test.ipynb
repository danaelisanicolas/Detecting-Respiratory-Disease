{
 "cells": [
  {
   "cell_type": "markdown",
   "metadata": {},
   "source": [
    "This is the 2nd part of my mini series in Detecting Respiratory Disease using Respiratory Audio (breathing sounds). Here are the other parts in this series:\n",
    "- Part 1: [Slicing audio files to subslices as defined by the .txt files](https://www.kaggle.com/danaelisanicolas/cnn-part-1-create-subslices-for-each-sound)\n",
    "- Part 3: [Creating Spectogram images from sound files](https://www.kaggle.com/danaelisanicolas/cnn-part-3-create-spectrogram-images)\n",
    "- Part 4: [Creating a model and training using VGG16](https://www.kaggle.com/danaelisanicolas/cnn-part-4-training-and-modelling-with-vgg16)\n",
    "\n",
    "For this kernel, we'll just split the output from part 1 (wav slices) to train and validation sets. I'm importing my output from the Part 1 kernel which you can checkout from the links above."
   ]
  },
  {
   "cell_type": "code",
   "execution_count": 1,
   "metadata": {
    "_cell_guid": "b1076dfc-b9ad-4769-8c92-a6c4dae69d19",
    "_uuid": "8f2839f25d086af736a60e9eeb907d3b93b6e0e5"
   },
   "outputs": [
    {
     "name": "stdout",
     "output_type": "stream",
     "text": [
      "Asthma\tBronchiectasis\tBronchiolitis  COPD  Healthy  LRTI  Pneumonia  URTI\r\n"
     ]
    }
   ],
   "source": [
    "!ls '../input/cnn-part-1-create-subslices-for-each-sound/output/'"
   ]
  },
  {
   "cell_type": "markdown",
   "metadata": {},
   "source": [
    "This task involves splitting without distorting the folder structure. I'm using split_folders python package to do this. Source: https://pypi.org/project/split-folders/"
   ]
  },
  {
   "cell_type": "code",
   "execution_count": 2,
   "metadata": {},
   "outputs": [
    {
     "name": "stdout",
     "output_type": "stream",
     "text": [
      "Collecting split_folders\r\n",
      "  Downloading split_folders-0.3.1-py3-none-any.whl (6.2 kB)\r\n",
      "Installing collected packages: split-folders\r\n",
      "Successfully installed split-folders-0.3.1\r\n"
     ]
    }
   ],
   "source": [
    "!pip install split_folders"
   ]
  },
  {
   "cell_type": "code",
   "execution_count": 3,
   "metadata": {
    "_cell_guid": "79c7e3d0-c299-4dcb-8224-4455121ee9b0",
    "_uuid": "d629ff2d2480ee46fbb7e2d37f6b5fab8052498a"
   },
   "outputs": [],
   "source": [
    "import split_folders\n",
    "\n",
    "import os"
   ]
  },
  {
   "cell_type": "code",
   "execution_count": 4,
   "metadata": {},
   "outputs": [],
   "source": [
    "os.makedirs('output')\n",
    "os.makedirs('output/train')\n",
    "os.makedirs('output/val')"
   ]
  },
  {
   "cell_type": "code",
   "execution_count": 5,
   "metadata": {},
   "outputs": [
    {
     "name": "stderr",
     "output_type": "stream",
     "text": [
      "Copying files: 6898 files [00:21, 327.94 files/s]\n"
     ]
    }
   ],
   "source": [
    "audio_loc = '../input/cnn-part-1-create-subslices-for-each-sound/output/'\n",
    "\n",
    "split_folders.ratio(audio_loc, output='output', seed=1337, ratio=(0.8, 0.2))"
   ]
  },
  {
   "cell_type": "markdown",
   "metadata": {},
   "source": [
    "And that's that. You can now use the output from this kernel for Part 3 (WIP)"
   ]
  }
 ],
 "metadata": {
  "kernelspec": {
   "display_name": "Python 3",
   "language": "python",
   "name": "python3"
  },
  "language_info": {
   "codemirror_mode": {
    "name": "ipython",
    "version": 3
   },
   "file_extension": ".py",
   "mimetype": "text/x-python",
   "name": "python",
   "nbconvert_exporter": "python",
   "pygments_lexer": "ipython3",
   "version": "3.6.6"
  }
 },
 "nbformat": 4,
 "nbformat_minor": 1
}
