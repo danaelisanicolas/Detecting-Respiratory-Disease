{
 "cells": [
  {
   "cell_type": "code",
   "execution_count": 1,
   "metadata": {
    "_cell_guid": "b1076dfc-b9ad-4769-8c92-a6c4dae69d19",
    "_uuid": "8f2839f25d086af736a60e9eeb907d3b93b6e0e5"
   },
   "outputs": [],
   "source": [
    "import pandas as pd\n",
    "import numpy as np\n",
    "\n",
    "import librosa as lb\n",
    "from librosa.display import specshow\n",
    "\n",
    "import matplotlib.pyplot as plt\n",
    "import seaborn as sns\n",
    "\n",
    "import os\n",
    "from os import listdir\n",
    "from os.path import isfile, join\n",
    "\n",
    "from tensorflow.keras.models import load_model\n",
    "from tensorflow.keras.preprocessing.image import ImageDataGenerator, load_img\n",
    "\n",
    "from sklearn.model_selection import train_test_split\n",
    "from sklearn.preprocessing import LabelEncoder\n",
    "\n",
    "from sklearn.linear_model import LogisticRegression\n",
    "from sklearn.tree import DecisionTreeClassifier\n",
    "from sklearn.ensemble import RandomForestClassifier\n",
    "from sklearn.neural_network import MLPClassifier\n",
    "from sklearn.svm import SVC\n",
    "from sklearn import metrics\n",
    "from sklearn.utils import class_weight"
   ]
  },
  {
   "cell_type": "code",
   "execution_count": 2,
   "metadata": {},
   "outputs": [
    {
     "name": "stdout",
     "output_type": "stream",
     "text": [
      "images\r\n"
     ]
    }
   ],
   "source": [
    "!ls ../input/spectrogram-images-all/"
   ]
  },
  {
   "cell_type": "code",
   "execution_count": 3,
   "metadata": {
    "_cell_guid": "79c7e3d0-c299-4dcb-8224-4455121ee9b0",
    "_uuid": "d629ff2d2480ee46fbb7e2d37f6b5fab8052498a"
   },
   "outputs": [
    {
     "data": {
      "text/html": [
       "<div>\n",
       "<style scoped>\n",
       "    .dataframe tbody tr th:only-of-type {\n",
       "        vertical-align: middle;\n",
       "    }\n",
       "\n",
       "    .dataframe tbody tr th {\n",
       "        vertical-align: top;\n",
       "    }\n",
       "\n",
       "    .dataframe thead th {\n",
       "        text-align: right;\n",
       "    }\n",
       "</style>\n",
       "<table border=\"1\" class=\"dataframe\">\n",
       "  <thead>\n",
       "    <tr style=\"text-align: right;\">\n",
       "      <th></th>\n",
       "      <th>pId</th>\n",
       "      <th>diagnosis</th>\n",
       "    </tr>\n",
       "  </thead>\n",
       "  <tbody>\n",
       "    <tr>\n",
       "      <th>0</th>\n",
       "      <td>101</td>\n",
       "      <td>URTI</td>\n",
       "    </tr>\n",
       "    <tr>\n",
       "      <th>1</th>\n",
       "      <td>102</td>\n",
       "      <td>Healthy</td>\n",
       "    </tr>\n",
       "    <tr>\n",
       "      <th>2</th>\n",
       "      <td>103</td>\n",
       "      <td>Asthma</td>\n",
       "    </tr>\n",
       "    <tr>\n",
       "      <th>3</th>\n",
       "      <td>104</td>\n",
       "      <td>COPD</td>\n",
       "    </tr>\n",
       "    <tr>\n",
       "      <th>4</th>\n",
       "      <td>105</td>\n",
       "      <td>URTI</td>\n",
       "    </tr>\n",
       "  </tbody>\n",
       "</table>\n",
       "</div>"
      ],
      "text/plain": [
       "   pId diagnosis\n",
       "0  101      URTI\n",
       "1  102   Healthy\n",
       "2  103    Asthma\n",
       "3  104      COPD\n",
       "4  105      URTI"
      ]
     },
     "execution_count": 3,
     "metadata": {},
     "output_type": "execute_result"
    }
   ],
   "source": [
    "diagnosis_csv = '../input/respiratory-sound-database/Respiratory_Sound_Database/Respiratory_Sound_Database/patient_diagnosis.csv'\n",
    "diagnosis = pd.read_csv(diagnosis_csv, names=['pId', 'diagnosis'])\n",
    "diagnosis.head()"
   ]
  },
  {
   "cell_type": "code",
   "execution_count": 4,
   "metadata": {},
   "outputs": [
    {
     "data": {
      "text/plain": [
       "['Asthma',\n",
       " 'Bronchiectasis',\n",
       " 'Bronchiolitis',\n",
       " 'COPD',\n",
       " 'Healthy',\n",
       " 'LRTI',\n",
       " 'Pneumonia',\n",
       " 'URTI']"
      ]
     },
     "execution_count": 4,
     "metadata": {},
     "output_type": "execute_result"
    }
   ],
   "source": [
    "categories = sorted(diagnosis['diagnosis'].unique().tolist())\n",
    "categories"
   ]
  },
  {
   "cell_type": "code",
   "execution_count": 5,
   "metadata": {},
   "outputs": [
    {
     "data": {
      "text/html": [
       "<div>\n",
       "<style scoped>\n",
       "    .dataframe tbody tr th:only-of-type {\n",
       "        vertical-align: middle;\n",
       "    }\n",
       "\n",
       "    .dataframe tbody tr th {\n",
       "        vertical-align: top;\n",
       "    }\n",
       "\n",
       "    .dataframe thead th {\n",
       "        text-align: right;\n",
       "    }\n",
       "</style>\n",
       "<table border=\"1\" class=\"dataframe\">\n",
       "  <thead>\n",
       "    <tr style=\"text-align: right;\">\n",
       "      <th></th>\n",
       "      <th>pId</th>\n",
       "      <th>age</th>\n",
       "      <th>sex</th>\n",
       "      <th>adult_bmi</th>\n",
       "      <th>child_wt</th>\n",
       "      <th>child_ht</th>\n",
       "    </tr>\n",
       "  </thead>\n",
       "  <tbody>\n",
       "    <tr>\n",
       "      <th>0</th>\n",
       "      <td>101</td>\n",
       "      <td>3.00</td>\n",
       "      <td>F</td>\n",
       "      <td>NaN</td>\n",
       "      <td>19.0</td>\n",
       "      <td>99.0</td>\n",
       "    </tr>\n",
       "    <tr>\n",
       "      <th>1</th>\n",
       "      <td>102</td>\n",
       "      <td>0.75</td>\n",
       "      <td>F</td>\n",
       "      <td>NaN</td>\n",
       "      <td>9.8</td>\n",
       "      <td>73.0</td>\n",
       "    </tr>\n",
       "    <tr>\n",
       "      <th>2</th>\n",
       "      <td>103</td>\n",
       "      <td>70.00</td>\n",
       "      <td>F</td>\n",
       "      <td>33.00</td>\n",
       "      <td>NaN</td>\n",
       "      <td>NaN</td>\n",
       "    </tr>\n",
       "    <tr>\n",
       "      <th>3</th>\n",
       "      <td>104</td>\n",
       "      <td>70.00</td>\n",
       "      <td>F</td>\n",
       "      <td>28.47</td>\n",
       "      <td>NaN</td>\n",
       "      <td>NaN</td>\n",
       "    </tr>\n",
       "    <tr>\n",
       "      <th>4</th>\n",
       "      <td>105</td>\n",
       "      <td>7.00</td>\n",
       "      <td>F</td>\n",
       "      <td>NaN</td>\n",
       "      <td>32.0</td>\n",
       "      <td>135.0</td>\n",
       "    </tr>\n",
       "  </tbody>\n",
       "</table>\n",
       "</div>"
      ],
      "text/plain": [
       "   pId    age sex  adult_bmi  child_wt  child_ht\n",
       "0  101   3.00   F        NaN      19.0      99.0\n",
       "1  102   0.75   F        NaN       9.8      73.0\n",
       "2  103  70.00   F      33.00       NaN       NaN\n",
       "3  104  70.00   F      28.47       NaN       NaN\n",
       "4  105   7.00   F        NaN      32.0     135.0"
      ]
     },
     "execution_count": 5,
     "metadata": {},
     "output_type": "execute_result"
    }
   ],
   "source": [
    "demographic_csv = '../input/respiratory-sound-database/demographic_info.txt'\n",
    "demographic = pd.read_csv(demographic_csv, sep=' ', names=['pId', 'age', 'sex', 'adult_bmi', 'child_wt', 'child_ht'])\n",
    "demographic.head()"
   ]
  },
  {
   "cell_type": "code",
   "execution_count": 6,
   "metadata": {},
   "outputs": [
    {
     "data": {
      "text/html": [
       "<div>\n",
       "<style scoped>\n",
       "    .dataframe tbody tr th:only-of-type {\n",
       "        vertical-align: middle;\n",
       "    }\n",
       "\n",
       "    .dataframe tbody tr th {\n",
       "        vertical-align: top;\n",
       "    }\n",
       "\n",
       "    .dataframe thead th {\n",
       "        text-align: right;\n",
       "    }\n",
       "</style>\n",
       "<table border=\"1\" class=\"dataframe\">\n",
       "  <thead>\n",
       "    <tr style=\"text-align: right;\">\n",
       "      <th></th>\n",
       "      <th>pId</th>\n",
       "      <th>age</th>\n",
       "      <th>sex</th>\n",
       "    </tr>\n",
       "  </thead>\n",
       "  <tbody>\n",
       "    <tr>\n",
       "      <th>0</th>\n",
       "      <td>101</td>\n",
       "      <td>3.00</td>\n",
       "      <td>F</td>\n",
       "    </tr>\n",
       "    <tr>\n",
       "      <th>1</th>\n",
       "      <td>102</td>\n",
       "      <td>0.75</td>\n",
       "      <td>F</td>\n",
       "    </tr>\n",
       "    <tr>\n",
       "      <th>2</th>\n",
       "      <td>103</td>\n",
       "      <td>70.00</td>\n",
       "      <td>F</td>\n",
       "    </tr>\n",
       "    <tr>\n",
       "      <th>3</th>\n",
       "      <td>104</td>\n",
       "      <td>70.00</td>\n",
       "      <td>F</td>\n",
       "    </tr>\n",
       "    <tr>\n",
       "      <th>4</th>\n",
       "      <td>105</td>\n",
       "      <td>7.00</td>\n",
       "      <td>F</td>\n",
       "    </tr>\n",
       "  </tbody>\n",
       "</table>\n",
       "</div>"
      ],
      "text/plain": [
       "   pId    age sex\n",
       "0  101   3.00   F\n",
       "1  102   0.75   F\n",
       "2  103  70.00   F\n",
       "3  104  70.00   F\n",
       "4  105   7.00   F"
      ]
     },
     "execution_count": 6,
     "metadata": {},
     "output_type": "execute_result"
    }
   ],
   "source": [
    "demographic.drop(['adult_bmi', 'child_wt', 'child_ht'], axis=1, inplace=True)\n",
    "demographic.head()"
   ]
  },
  {
   "cell_type": "code",
   "execution_count": 7,
   "metadata": {},
   "outputs": [
    {
     "name": "stdout",
     "output_type": "stream",
     "text": [
      "<class 'pandas.core.frame.DataFrame'>\n",
      "RangeIndex: 126 entries, 0 to 125\n",
      "Data columns (total 2 columns):\n",
      "pId          126 non-null int64\n",
      "diagnosis    126 non-null object\n",
      "dtypes: int64(1), object(1)\n",
      "memory usage: 2.1+ KB\n"
     ]
    }
   ],
   "source": [
    "diagnosis.info()"
   ]
  },
  {
   "cell_type": "code",
   "execution_count": 8,
   "metadata": {},
   "outputs": [
    {
     "name": "stdout",
     "output_type": "stream",
     "text": [
      "<class 'pandas.core.frame.DataFrame'>\n",
      "RangeIndex: 126 entries, 0 to 125\n",
      "Data columns (total 3 columns):\n",
      "pId    126 non-null int64\n",
      "age    125 non-null float64\n",
      "sex    125 non-null object\n",
      "dtypes: float64(1), int64(1), object(1)\n",
      "memory usage: 3.1+ KB\n"
     ]
    }
   ],
   "source": [
    "demographic.info()"
   ]
  },
  {
   "cell_type": "code",
   "execution_count": 9,
   "metadata": {},
   "outputs": [
    {
     "data": {
      "text/html": [
       "<div>\n",
       "<style scoped>\n",
       "    .dataframe tbody tr th:only-of-type {\n",
       "        vertical-align: middle;\n",
       "    }\n",
       "\n",
       "    .dataframe tbody tr th {\n",
       "        vertical-align: top;\n",
       "    }\n",
       "\n",
       "    .dataframe thead th {\n",
       "        text-align: right;\n",
       "    }\n",
       "</style>\n",
       "<table border=\"1\" class=\"dataframe\">\n",
       "  <thead>\n",
       "    <tr style=\"text-align: right;\">\n",
       "      <th></th>\n",
       "      <th>pId</th>\n",
       "      <th>diagnosis</th>\n",
       "      <th>age</th>\n",
       "      <th>sex</th>\n",
       "    </tr>\n",
       "  </thead>\n",
       "  <tbody>\n",
       "    <tr>\n",
       "      <th>0</th>\n",
       "      <td>101</td>\n",
       "      <td>URTI</td>\n",
       "      <td>3.00</td>\n",
       "      <td>F</td>\n",
       "    </tr>\n",
       "    <tr>\n",
       "      <th>1</th>\n",
       "      <td>102</td>\n",
       "      <td>Healthy</td>\n",
       "      <td>0.75</td>\n",
       "      <td>F</td>\n",
       "    </tr>\n",
       "    <tr>\n",
       "      <th>2</th>\n",
       "      <td>103</td>\n",
       "      <td>Asthma</td>\n",
       "      <td>70.00</td>\n",
       "      <td>F</td>\n",
       "    </tr>\n",
       "    <tr>\n",
       "      <th>3</th>\n",
       "      <td>104</td>\n",
       "      <td>COPD</td>\n",
       "      <td>70.00</td>\n",
       "      <td>F</td>\n",
       "    </tr>\n",
       "    <tr>\n",
       "      <th>4</th>\n",
       "      <td>105</td>\n",
       "      <td>URTI</td>\n",
       "      <td>7.00</td>\n",
       "      <td>F</td>\n",
       "    </tr>\n",
       "  </tbody>\n",
       "</table>\n",
       "</div>"
      ],
      "text/plain": [
       "   pId diagnosis    age sex\n",
       "0  101      URTI   3.00   F\n",
       "1  102   Healthy   0.75   F\n",
       "2  103    Asthma  70.00   F\n",
       "3  104      COPD  70.00   F\n",
       "4  105      URTI   7.00   F"
      ]
     },
     "execution_count": 9,
     "metadata": {},
     "output_type": "execute_result"
    }
   ],
   "source": [
    "df = pd.merge(diagnosis, demographic, on='pId')\n",
    "df.head()"
   ]
  },
  {
   "cell_type": "code",
   "execution_count": 10,
   "metadata": {},
   "outputs": [],
   "source": [
    "path = '../input/spectrogram-images-all/images/'\n",
    "files = [f for f in os.listdir(path = path)]"
   ]
  },
  {
   "cell_type": "code",
   "execution_count": 11,
   "metadata": {},
   "outputs": [],
   "source": [
    "files_ = []\n",
    "for file in files:\n",
    "    pId = file.split('_')[0]\n",
    "    files_.append([pId, file])"
   ]
  },
  {
   "cell_type": "code",
   "execution_count": 12,
   "metadata": {},
   "outputs": [
    {
     "data": {
      "text/html": [
       "<div>\n",
       "<style scoped>\n",
       "    .dataframe tbody tr th:only-of-type {\n",
       "        vertical-align: middle;\n",
       "    }\n",
       "\n",
       "    .dataframe tbody tr th {\n",
       "        vertical-align: top;\n",
       "    }\n",
       "\n",
       "    .dataframe thead th {\n",
       "        text-align: right;\n",
       "    }\n",
       "</style>\n",
       "<table border=\"1\" class=\"dataframe\">\n",
       "  <thead>\n",
       "    <tr style=\"text-align: right;\">\n",
       "      <th></th>\n",
       "      <th>pId</th>\n",
       "      <th>filename</th>\n",
       "    </tr>\n",
       "  </thead>\n",
       "  <tbody>\n",
       "    <tr>\n",
       "      <th>0</th>\n",
       "      <td>208</td>\n",
       "      <td>208_1b1_Ll_sc_Meditron_1.png</td>\n",
       "    </tr>\n",
       "    <tr>\n",
       "      <th>1</th>\n",
       "      <td>186</td>\n",
       "      <td>186_2b2_Lr_mc_AKGC417L_3.png</td>\n",
       "    </tr>\n",
       "    <tr>\n",
       "      <th>2</th>\n",
       "      <td>154</td>\n",
       "      <td>154_2b4_Ar_mc_AKGC417L_3.png</td>\n",
       "    </tr>\n",
       "    <tr>\n",
       "      <th>3</th>\n",
       "      <td>203</td>\n",
       "      <td>203_1p4_Ar_mc_AKGC417L_4.png</td>\n",
       "    </tr>\n",
       "    <tr>\n",
       "      <th>4</th>\n",
       "      <td>201</td>\n",
       "      <td>201_1b1_Ar_sc_Meditron_1.png</td>\n",
       "    </tr>\n",
       "  </tbody>\n",
       "</table>\n",
       "</div>"
      ],
      "text/plain": [
       "   pId                      filename\n",
       "0  208  208_1b1_Ll_sc_Meditron_1.png\n",
       "1  186  186_2b2_Lr_mc_AKGC417L_3.png\n",
       "2  154  154_2b4_Ar_mc_AKGC417L_3.png\n",
       "3  203  203_1p4_Ar_mc_AKGC417L_4.png\n",
       "4  201  201_1b1_Ar_sc_Meditron_1.png"
      ]
     },
     "execution_count": 12,
     "metadata": {},
     "output_type": "execute_result"
    }
   ],
   "source": [
    "files_df = pd.DataFrame(files_, columns=['pId', 'filename'])\n",
    "files_df.head()"
   ]
  },
  {
   "cell_type": "code",
   "execution_count": 13,
   "metadata": {},
   "outputs": [
    {
     "name": "stdout",
     "output_type": "stream",
     "text": [
      "<class 'pandas.core.frame.DataFrame'>\n",
      "RangeIndex: 5390 entries, 0 to 5389\n",
      "Data columns (total 2 columns):\n",
      "pId         5390 non-null object\n",
      "filename    5390 non-null object\n",
      "dtypes: object(2)\n",
      "memory usage: 84.3+ KB\n"
     ]
    }
   ],
   "source": [
    "files_df.info()"
   ]
  },
  {
   "cell_type": "code",
   "execution_count": 14,
   "metadata": {},
   "outputs": [
    {
     "data": {
      "text/html": [
       "<div>\n",
       "<style scoped>\n",
       "    .dataframe tbody tr th:only-of-type {\n",
       "        vertical-align: middle;\n",
       "    }\n",
       "\n",
       "    .dataframe tbody tr th {\n",
       "        vertical-align: top;\n",
       "    }\n",
       "\n",
       "    .dataframe thead th {\n",
       "        text-align: right;\n",
       "    }\n",
       "</style>\n",
       "<table border=\"1\" class=\"dataframe\">\n",
       "  <thead>\n",
       "    <tr style=\"text-align: right;\">\n",
       "      <th></th>\n",
       "      <th>pId</th>\n",
       "      <th>diagnosis</th>\n",
       "      <th>age</th>\n",
       "      <th>sex</th>\n",
       "      <th>filename</th>\n",
       "    </tr>\n",
       "  </thead>\n",
       "  <tbody>\n",
       "    <tr>\n",
       "      <th>0</th>\n",
       "      <td>101</td>\n",
       "      <td>URTI</td>\n",
       "      <td>3.0</td>\n",
       "      <td>F</td>\n",
       "      <td>101_1b1_Pr_sc_Meditron_7.png</td>\n",
       "    </tr>\n",
       "    <tr>\n",
       "      <th>1</th>\n",
       "      <td>101</td>\n",
       "      <td>URTI</td>\n",
       "      <td>3.0</td>\n",
       "      <td>F</td>\n",
       "      <td>101_1b1_Pr_sc_Meditron_5.png</td>\n",
       "    </tr>\n",
       "    <tr>\n",
       "      <th>2</th>\n",
       "      <td>101</td>\n",
       "      <td>URTI</td>\n",
       "      <td>3.0</td>\n",
       "      <td>F</td>\n",
       "      <td>101_1b1_Pr_sc_Meditron_0.png</td>\n",
       "    </tr>\n",
       "    <tr>\n",
       "      <th>3</th>\n",
       "      <td>101</td>\n",
       "      <td>URTI</td>\n",
       "      <td>3.0</td>\n",
       "      <td>F</td>\n",
       "      <td>101_1b1_Pr_sc_Meditron_1.png</td>\n",
       "    </tr>\n",
       "    <tr>\n",
       "      <th>4</th>\n",
       "      <td>101</td>\n",
       "      <td>URTI</td>\n",
       "      <td>3.0</td>\n",
       "      <td>F</td>\n",
       "      <td>101_1b1_Al_sc_Meditron_10.png</td>\n",
       "    </tr>\n",
       "  </tbody>\n",
       "</table>\n",
       "</div>"
      ],
      "text/plain": [
       "   pId diagnosis  age sex                       filename\n",
       "0  101      URTI  3.0   F   101_1b1_Pr_sc_Meditron_7.png\n",
       "1  101      URTI  3.0   F   101_1b1_Pr_sc_Meditron_5.png\n",
       "2  101      URTI  3.0   F   101_1b1_Pr_sc_Meditron_0.png\n",
       "3  101      URTI  3.0   F   101_1b1_Pr_sc_Meditron_1.png\n",
       "4  101      URTI  3.0   F  101_1b1_Al_sc_Meditron_10.png"
      ]
     },
     "execution_count": 14,
     "metadata": {},
     "output_type": "execute_result"
    }
   ],
   "source": [
    "files_df['pId'] = files_df['pId'].astype('int64')\n",
    "df = pd.merge(df, files_df, on='pId')\n",
    "df.head()"
   ]
  },
  {
   "cell_type": "code",
   "execution_count": 15,
   "metadata": {},
   "outputs": [
    {
     "data": {
      "text/plain": [
       "(5390, 5)"
      ]
     },
     "execution_count": 15,
     "metadata": {},
     "output_type": "execute_result"
    }
   ],
   "source": [
    "df.shape"
   ]
  },
  {
   "cell_type": "code",
   "execution_count": 16,
   "metadata": {},
   "outputs": [
    {
     "name": "stdout",
     "output_type": "stream",
     "text": [
      "__notebook__.ipynb  __results__.html   custom.css\r\n",
      "__output__.json     __results___files  res.h5\r\n"
     ]
    }
   ],
   "source": [
    "!ls ../input/cnn-part-4-training-and-modelling"
   ]
  },
  {
   "cell_type": "code",
   "execution_count": 17,
   "metadata": {},
   "outputs": [
    {
     "data": {
      "text/plain": [
       "<tensorflow.python.keras.engine.sequential.Sequential at 0x7f101a1db7b8>"
      ]
     },
     "execution_count": 17,
     "metadata": {},
     "output_type": "execute_result"
    }
   ],
   "source": [
    "#load model\n",
    "model_path = '../input/cnn-part-4-training-and-modelling/res.h5'\n",
    "model = load_model(model_path)\n",
    "model"
   ]
  },
  {
   "cell_type": "code",
   "execution_count": 18,
   "metadata": {},
   "outputs": [],
   "source": [
    "batch_holder = np.zeros((df.shape[0], 224, 224, 3))\n",
    "\n",
    "for i,img in enumerate(os.listdir(path)):\n",
    "  img = load_img(os.path.join(path,img), target_size=(224,224))\n",
    "  batch_holder[i, :] = img"
   ]
  },
  {
   "cell_type": "code",
   "execution_count": 19,
   "metadata": {},
   "outputs": [
    {
     "data": {
      "text/plain": [
       "array([[2.1506918e-09, 1.7575466e-03, 3.8150191e-02, ..., 2.8955800e-04,\n",
       "        1.9655665e-04, 2.3027650e-01],\n",
       "       [5.7951370e-06, 1.7546353e-11, 2.2779426e-10, ..., 2.0314856e-09,\n",
       "        3.0554440e-03, 2.5939115e-10],\n",
       "       [2.6274090e-06, 2.7713731e-06, 3.6129386e-10, ..., 7.3734708e-07,\n",
       "        3.6101785e-04, 1.3678917e-05],\n",
       "       ...,\n",
       "       [6.6706662e-07, 2.0317400e-14, 5.7132580e-15, ..., 1.1836318e-12,\n",
       "        3.9964802e-06, 1.1711924e-09],\n",
       "       [1.0951369e-03, 1.6293505e-05, 3.6524997e-10, ..., 9.1656833e-04,\n",
       "        8.6563587e-02, 8.1855757e-03],\n",
       "       [1.8574119e-02, 1.0683599e-05, 2.1050870e-09, ..., 5.8268059e-05,\n",
       "        6.1144564e-02, 9.6620177e-05]], dtype=float32)"
      ]
     },
     "execution_count": 19,
     "metadata": {},
     "output_type": "execute_result"
    }
   ],
   "source": [
    "result = model.predict(batch_holder)\n",
    "result"
   ]
  },
  {
   "cell_type": "code",
   "execution_count": 20,
   "metadata": {},
   "outputs": [
    {
     "data": {
      "text/plain": [
       "array([4, 3, 3, ..., 3, 3, 3])"
      ]
     },
     "execution_count": 20,
     "metadata": {},
     "output_type": "execute_result"
    }
   ],
   "source": [
    "result_max = np.argmax(result, axis=-1)\n",
    "result_max"
   ]
  },
  {
   "cell_type": "code",
   "execution_count": 21,
   "metadata": {},
   "outputs": [
    {
     "data": {
      "text/plain": [
       "array([0, 1, 2, 3, 4, 5, 6, 7])"
      ]
     },
     "execution_count": 21,
     "metadata": {},
     "output_type": "execute_result"
    }
   ],
   "source": [
    "np.unique(result_max)"
   ]
  },
  {
   "cell_type": "code",
   "execution_count": 22,
   "metadata": {},
   "outputs": [
    {
     "data": {
      "text/html": [
       "<div>\n",
       "<style scoped>\n",
       "    .dataframe tbody tr th:only-of-type {\n",
       "        vertical-align: middle;\n",
       "    }\n",
       "\n",
       "    .dataframe tbody tr th {\n",
       "        vertical-align: top;\n",
       "    }\n",
       "\n",
       "    .dataframe thead th {\n",
       "        text-align: right;\n",
       "    }\n",
       "</style>\n",
       "<table border=\"1\" class=\"dataframe\">\n",
       "  <thead>\n",
       "    <tr style=\"text-align: right;\">\n",
       "      <th></th>\n",
       "      <th>Asthma</th>\n",
       "      <th>Bronchiectasis</th>\n",
       "      <th>Bronchiolitis</th>\n",
       "      <th>COPD</th>\n",
       "      <th>Healthy</th>\n",
       "      <th>LRTI</th>\n",
       "      <th>Pneumonia</th>\n",
       "      <th>URTI</th>\n",
       "    </tr>\n",
       "  </thead>\n",
       "  <tbody>\n",
       "    <tr>\n",
       "      <th>0</th>\n",
       "      <td>2.150692e-09</td>\n",
       "      <td>1.757547e-03</td>\n",
       "      <td>3.815019e-02</td>\n",
       "      <td>0.003045</td>\n",
       "      <td>7.262846e-01</td>\n",
       "      <td>2.895580e-04</td>\n",
       "      <td>0.000197</td>\n",
       "      <td>2.302765e-01</td>\n",
       "    </tr>\n",
       "    <tr>\n",
       "      <th>1</th>\n",
       "      <td>5.795137e-06</td>\n",
       "      <td>1.754635e-11</td>\n",
       "      <td>2.277943e-10</td>\n",
       "      <td>0.996939</td>\n",
       "      <td>1.326651e-13</td>\n",
       "      <td>2.031486e-09</td>\n",
       "      <td>0.003055</td>\n",
       "      <td>2.593911e-10</td>\n",
       "    </tr>\n",
       "    <tr>\n",
       "      <th>2</th>\n",
       "      <td>2.627409e-06</td>\n",
       "      <td>2.771373e-06</td>\n",
       "      <td>3.612939e-10</td>\n",
       "      <td>0.999618</td>\n",
       "      <td>9.231468e-07</td>\n",
       "      <td>7.373471e-07</td>\n",
       "      <td>0.000361</td>\n",
       "      <td>1.367892e-05</td>\n",
       "    </tr>\n",
       "    <tr>\n",
       "      <th>3</th>\n",
       "      <td>9.605336e-07</td>\n",
       "      <td>8.533218e-06</td>\n",
       "      <td>6.210126e-06</td>\n",
       "      <td>0.989107</td>\n",
       "      <td>5.239604e-04</td>\n",
       "      <td>1.476221e-03</td>\n",
       "      <td>0.002707</td>\n",
       "      <td>6.170190e-03</td>\n",
       "    </tr>\n",
       "    <tr>\n",
       "      <th>4</th>\n",
       "      <td>3.683348e-08</td>\n",
       "      <td>7.732258e-01</td>\n",
       "      <td>3.238447e-04</td>\n",
       "      <td>0.014780</td>\n",
       "      <td>2.018045e-01</td>\n",
       "      <td>3.197132e-04</td>\n",
       "      <td>0.000008</td>\n",
       "      <td>9.538185e-03</td>\n",
       "    </tr>\n",
       "  </tbody>\n",
       "</table>\n",
       "</div>"
      ],
      "text/plain": [
       "         Asthma  Bronchiectasis  Bronchiolitis      COPD       Healthy  \\\n",
       "0  2.150692e-09    1.757547e-03   3.815019e-02  0.003045  7.262846e-01   \n",
       "1  5.795137e-06    1.754635e-11   2.277943e-10  0.996939  1.326651e-13   \n",
       "2  2.627409e-06    2.771373e-06   3.612939e-10  0.999618  9.231468e-07   \n",
       "3  9.605336e-07    8.533218e-06   6.210126e-06  0.989107  5.239604e-04   \n",
       "4  3.683348e-08    7.732258e-01   3.238447e-04  0.014780  2.018045e-01   \n",
       "\n",
       "           LRTI  Pneumonia          URTI  \n",
       "0  2.895580e-04   0.000197  2.302765e-01  \n",
       "1  2.031486e-09   0.003055  2.593911e-10  \n",
       "2  7.373471e-07   0.000361  1.367892e-05  \n",
       "3  1.476221e-03   0.002707  6.170190e-03  \n",
       "4  3.197132e-04   0.000008  9.538185e-03  "
      ]
     },
     "execution_count": 22,
     "metadata": {},
     "output_type": "execute_result"
    }
   ],
   "source": [
    "predictions = pd.DataFrame(result, columns=categories)\n",
    "predictions.head()"
   ]
  },
  {
   "cell_type": "code",
   "execution_count": 23,
   "metadata": {},
   "outputs": [
    {
     "data": {
      "text/plain": [
       "(5390, 8)"
      ]
     },
     "execution_count": 23,
     "metadata": {},
     "output_type": "execute_result"
    }
   ],
   "source": [
    "predictions.shape"
   ]
  },
  {
   "cell_type": "code",
   "execution_count": 24,
   "metadata": {},
   "outputs": [
    {
     "data": {
      "text/html": [
       "<div>\n",
       "<style scoped>\n",
       "    .dataframe tbody tr th:only-of-type {\n",
       "        vertical-align: middle;\n",
       "    }\n",
       "\n",
       "    .dataframe tbody tr th {\n",
       "        vertical-align: top;\n",
       "    }\n",
       "\n",
       "    .dataframe thead th {\n",
       "        text-align: right;\n",
       "    }\n",
       "</style>\n",
       "<table border=\"1\" class=\"dataframe\">\n",
       "  <thead>\n",
       "    <tr style=\"text-align: right;\">\n",
       "      <th></th>\n",
       "      <th>pId</th>\n",
       "      <th>diagnosis</th>\n",
       "      <th>age</th>\n",
       "      <th>sex</th>\n",
       "      <th>filename</th>\n",
       "      <th>Asthma</th>\n",
       "      <th>Bronchiectasis</th>\n",
       "      <th>Bronchiolitis</th>\n",
       "      <th>COPD</th>\n",
       "      <th>Healthy</th>\n",
       "      <th>LRTI</th>\n",
       "      <th>Pneumonia</th>\n",
       "      <th>URTI</th>\n",
       "    </tr>\n",
       "  </thead>\n",
       "  <tbody>\n",
       "    <tr>\n",
       "      <th>0</th>\n",
       "      <td>101</td>\n",
       "      <td>URTI</td>\n",
       "      <td>3.0</td>\n",
       "      <td>F</td>\n",
       "      <td>101_1b1_Pr_sc_Meditron_7.png</td>\n",
       "      <td>2.150692e-09</td>\n",
       "      <td>1.757547e-03</td>\n",
       "      <td>3.815019e-02</td>\n",
       "      <td>0.003045</td>\n",
       "      <td>7.262846e-01</td>\n",
       "      <td>2.895580e-04</td>\n",
       "      <td>0.000197</td>\n",
       "      <td>2.302765e-01</td>\n",
       "    </tr>\n",
       "    <tr>\n",
       "      <th>1</th>\n",
       "      <td>101</td>\n",
       "      <td>URTI</td>\n",
       "      <td>3.0</td>\n",
       "      <td>F</td>\n",
       "      <td>101_1b1_Pr_sc_Meditron_5.png</td>\n",
       "      <td>5.795137e-06</td>\n",
       "      <td>1.754635e-11</td>\n",
       "      <td>2.277943e-10</td>\n",
       "      <td>0.996939</td>\n",
       "      <td>1.326651e-13</td>\n",
       "      <td>2.031486e-09</td>\n",
       "      <td>0.003055</td>\n",
       "      <td>2.593911e-10</td>\n",
       "    </tr>\n",
       "    <tr>\n",
       "      <th>2</th>\n",
       "      <td>101</td>\n",
       "      <td>URTI</td>\n",
       "      <td>3.0</td>\n",
       "      <td>F</td>\n",
       "      <td>101_1b1_Pr_sc_Meditron_0.png</td>\n",
       "      <td>2.627409e-06</td>\n",
       "      <td>2.771373e-06</td>\n",
       "      <td>3.612939e-10</td>\n",
       "      <td>0.999618</td>\n",
       "      <td>9.231468e-07</td>\n",
       "      <td>7.373471e-07</td>\n",
       "      <td>0.000361</td>\n",
       "      <td>1.367892e-05</td>\n",
       "    </tr>\n",
       "    <tr>\n",
       "      <th>3</th>\n",
       "      <td>101</td>\n",
       "      <td>URTI</td>\n",
       "      <td>3.0</td>\n",
       "      <td>F</td>\n",
       "      <td>101_1b1_Pr_sc_Meditron_1.png</td>\n",
       "      <td>9.605336e-07</td>\n",
       "      <td>8.533218e-06</td>\n",
       "      <td>6.210126e-06</td>\n",
       "      <td>0.989107</td>\n",
       "      <td>5.239604e-04</td>\n",
       "      <td>1.476221e-03</td>\n",
       "      <td>0.002707</td>\n",
       "      <td>6.170190e-03</td>\n",
       "    </tr>\n",
       "    <tr>\n",
       "      <th>4</th>\n",
       "      <td>101</td>\n",
       "      <td>URTI</td>\n",
       "      <td>3.0</td>\n",
       "      <td>F</td>\n",
       "      <td>101_1b1_Al_sc_Meditron_10.png</td>\n",
       "      <td>3.683348e-08</td>\n",
       "      <td>7.732258e-01</td>\n",
       "      <td>3.238447e-04</td>\n",
       "      <td>0.014780</td>\n",
       "      <td>2.018045e-01</td>\n",
       "      <td>3.197132e-04</td>\n",
       "      <td>0.000008</td>\n",
       "      <td>9.538185e-03</td>\n",
       "    </tr>\n",
       "  </tbody>\n",
       "</table>\n",
       "</div>"
      ],
      "text/plain": [
       "   pId diagnosis  age sex                       filename        Asthma  \\\n",
       "0  101      URTI  3.0   F   101_1b1_Pr_sc_Meditron_7.png  2.150692e-09   \n",
       "1  101      URTI  3.0   F   101_1b1_Pr_sc_Meditron_5.png  5.795137e-06   \n",
       "2  101      URTI  3.0   F   101_1b1_Pr_sc_Meditron_0.png  2.627409e-06   \n",
       "3  101      URTI  3.0   F   101_1b1_Pr_sc_Meditron_1.png  9.605336e-07   \n",
       "4  101      URTI  3.0   F  101_1b1_Al_sc_Meditron_10.png  3.683348e-08   \n",
       "\n",
       "   Bronchiectasis  Bronchiolitis      COPD       Healthy          LRTI  \\\n",
       "0    1.757547e-03   3.815019e-02  0.003045  7.262846e-01  2.895580e-04   \n",
       "1    1.754635e-11   2.277943e-10  0.996939  1.326651e-13  2.031486e-09   \n",
       "2    2.771373e-06   3.612939e-10  0.999618  9.231468e-07  7.373471e-07   \n",
       "3    8.533218e-06   6.210126e-06  0.989107  5.239604e-04  1.476221e-03   \n",
       "4    7.732258e-01   3.238447e-04  0.014780  2.018045e-01  3.197132e-04   \n",
       "\n",
       "   Pneumonia          URTI  \n",
       "0   0.000197  2.302765e-01  \n",
       "1   0.003055  2.593911e-10  \n",
       "2   0.000361  1.367892e-05  \n",
       "3   0.002707  6.170190e-03  \n",
       "4   0.000008  9.538185e-03  "
      ]
     },
     "execution_count": 24,
     "metadata": {},
     "output_type": "execute_result"
    }
   ],
   "source": [
    "final_df = df.merge(predictions, left_index=True, right_index=True)\n",
    "final_df.head()"
   ]
  },
  {
   "cell_type": "code",
   "execution_count": 25,
   "metadata": {},
   "outputs": [],
   "source": [
    "final_df['sex'] = final_df['sex'].map({ 'M': 0, 'F': 1})"
   ]
  },
  {
   "cell_type": "code",
   "execution_count": 26,
   "metadata": {},
   "outputs": [],
   "source": [
    "final_df.drop(['filename', 'pId'], axis=1, inplace=True)"
   ]
  },
  {
   "cell_type": "code",
   "execution_count": 27,
   "metadata": {},
   "outputs": [],
   "source": [
    "final_df['sex'].fillna(0, inplace=True) #this is mode"
   ]
  },
  {
   "cell_type": "code",
   "execution_count": 28,
   "metadata": {},
   "outputs": [],
   "source": [
    "final_df['age'].fillna(final_df['age'].describe().mean(), inplace=True)"
   ]
  },
  {
   "cell_type": "code",
   "execution_count": 29,
   "metadata": {},
   "outputs": [
    {
     "data": {
      "text/plain": [
       "array([7, 7, 7, ..., 6, 6, 6])"
      ]
     },
     "execution_count": 29,
     "metadata": {},
     "output_type": "execute_result"
    }
   ],
   "source": [
    "label_encoder = LabelEncoder()\n",
    "diag_encoded = label_encoder.fit_transform(final_df['diagnosis'])\n",
    "diag_encoded"
   ]
  },
  {
   "cell_type": "code",
   "execution_count": 30,
   "metadata": {},
   "outputs": [
    {
     "data": {
      "text/plain": [
       "array([0, 1, 2, 3, 4, 5, 6, 7])"
      ]
     },
     "execution_count": 30,
     "metadata": {},
     "output_type": "execute_result"
    }
   ],
   "source": [
    "np.unique(diag_encoded)"
   ]
  },
  {
   "cell_type": "code",
   "execution_count": 31,
   "metadata": {},
   "outputs": [],
   "source": [
    "final_df['diagnosis'] = diag_encoded"
   ]
  },
  {
   "cell_type": "code",
   "execution_count": 32,
   "metadata": {},
   "outputs": [
    {
     "data": {
      "text/plain": [
       "diagnosis         0\n",
       "age               0\n",
       "sex               0\n",
       "Asthma            0\n",
       "Bronchiectasis    0\n",
       "Bronchiolitis     0\n",
       "COPD              0\n",
       "Healthy           0\n",
       "LRTI              0\n",
       "Pneumonia         0\n",
       "URTI              0\n",
       "dtype: int64"
      ]
     },
     "execution_count": 32,
     "metadata": {},
     "output_type": "execute_result"
    }
   ],
   "source": [
    "final_df.isnull().sum()"
   ]
  },
  {
   "cell_type": "code",
   "execution_count": 33,
   "metadata": {},
   "outputs": [
    {
     "data": {
      "text/html": [
       "<div>\n",
       "<style scoped>\n",
       "    .dataframe tbody tr th:only-of-type {\n",
       "        vertical-align: middle;\n",
       "    }\n",
       "\n",
       "    .dataframe tbody tr th {\n",
       "        vertical-align: top;\n",
       "    }\n",
       "\n",
       "    .dataframe thead th {\n",
       "        text-align: right;\n",
       "    }\n",
       "</style>\n",
       "<table border=\"1\" class=\"dataframe\">\n",
       "  <thead>\n",
       "    <tr style=\"text-align: right;\">\n",
       "      <th></th>\n",
       "      <th>diagnosis</th>\n",
       "      <th>age</th>\n",
       "      <th>sex</th>\n",
       "      <th>Asthma</th>\n",
       "      <th>Bronchiectasis</th>\n",
       "      <th>Bronchiolitis</th>\n",
       "      <th>COPD</th>\n",
       "      <th>Healthy</th>\n",
       "      <th>LRTI</th>\n",
       "      <th>Pneumonia</th>\n",
       "      <th>URTI</th>\n",
       "    </tr>\n",
       "  </thead>\n",
       "  <tbody>\n",
       "    <tr>\n",
       "      <th>0</th>\n",
       "      <td>7</td>\n",
       "      <td>3.0</td>\n",
       "      <td>1.0</td>\n",
       "      <td>2.150692e-09</td>\n",
       "      <td>1.757547e-03</td>\n",
       "      <td>3.815019e-02</td>\n",
       "      <td>0.003045</td>\n",
       "      <td>7.262846e-01</td>\n",
       "      <td>2.895580e-04</td>\n",
       "      <td>0.000197</td>\n",
       "      <td>2.302765e-01</td>\n",
       "    </tr>\n",
       "    <tr>\n",
       "      <th>1</th>\n",
       "      <td>7</td>\n",
       "      <td>3.0</td>\n",
       "      <td>1.0</td>\n",
       "      <td>5.795137e-06</td>\n",
       "      <td>1.754635e-11</td>\n",
       "      <td>2.277943e-10</td>\n",
       "      <td>0.996939</td>\n",
       "      <td>1.326651e-13</td>\n",
       "      <td>2.031486e-09</td>\n",
       "      <td>0.003055</td>\n",
       "      <td>2.593911e-10</td>\n",
       "    </tr>\n",
       "    <tr>\n",
       "      <th>2</th>\n",
       "      <td>7</td>\n",
       "      <td>3.0</td>\n",
       "      <td>1.0</td>\n",
       "      <td>2.627409e-06</td>\n",
       "      <td>2.771373e-06</td>\n",
       "      <td>3.612939e-10</td>\n",
       "      <td>0.999618</td>\n",
       "      <td>9.231468e-07</td>\n",
       "      <td>7.373471e-07</td>\n",
       "      <td>0.000361</td>\n",
       "      <td>1.367892e-05</td>\n",
       "    </tr>\n",
       "    <tr>\n",
       "      <th>3</th>\n",
       "      <td>7</td>\n",
       "      <td>3.0</td>\n",
       "      <td>1.0</td>\n",
       "      <td>9.605336e-07</td>\n",
       "      <td>8.533218e-06</td>\n",
       "      <td>6.210126e-06</td>\n",
       "      <td>0.989107</td>\n",
       "      <td>5.239604e-04</td>\n",
       "      <td>1.476221e-03</td>\n",
       "      <td>0.002707</td>\n",
       "      <td>6.170190e-03</td>\n",
       "    </tr>\n",
       "    <tr>\n",
       "      <th>4</th>\n",
       "      <td>7</td>\n",
       "      <td>3.0</td>\n",
       "      <td>1.0</td>\n",
       "      <td>3.683348e-08</td>\n",
       "      <td>7.732258e-01</td>\n",
       "      <td>3.238447e-04</td>\n",
       "      <td>0.014780</td>\n",
       "      <td>2.018045e-01</td>\n",
       "      <td>3.197132e-04</td>\n",
       "      <td>0.000008</td>\n",
       "      <td>9.538185e-03</td>\n",
       "    </tr>\n",
       "  </tbody>\n",
       "</table>\n",
       "</div>"
      ],
      "text/plain": [
       "   diagnosis  age  sex        Asthma  Bronchiectasis  Bronchiolitis      COPD  \\\n",
       "0          7  3.0  1.0  2.150692e-09    1.757547e-03   3.815019e-02  0.003045   \n",
       "1          7  3.0  1.0  5.795137e-06    1.754635e-11   2.277943e-10  0.996939   \n",
       "2          7  3.0  1.0  2.627409e-06    2.771373e-06   3.612939e-10  0.999618   \n",
       "3          7  3.0  1.0  9.605336e-07    8.533218e-06   6.210126e-06  0.989107   \n",
       "4          7  3.0  1.0  3.683348e-08    7.732258e-01   3.238447e-04  0.014780   \n",
       "\n",
       "        Healthy          LRTI  Pneumonia          URTI  \n",
       "0  7.262846e-01  2.895580e-04   0.000197  2.302765e-01  \n",
       "1  1.326651e-13  2.031486e-09   0.003055  2.593911e-10  \n",
       "2  9.231468e-07  7.373471e-07   0.000361  1.367892e-05  \n",
       "3  5.239604e-04  1.476221e-03   0.002707  6.170190e-03  \n",
       "4  2.018045e-01  3.197132e-04   0.000008  9.538185e-03  "
      ]
     },
     "execution_count": 33,
     "metadata": {},
     "output_type": "execute_result"
    }
   ],
   "source": [
    "final_df.reset_index()\n",
    "final_df.head()"
   ]
  },
  {
   "cell_type": "code",
   "execution_count": 34,
   "metadata": {},
   "outputs": [
    {
     "data": {
      "text/plain": [
       "<matplotlib.axes._subplots.AxesSubplot at 0x7f1010721908>"
      ]
     },
     "execution_count": 34,
     "metadata": {},
     "output_type": "execute_result"
    },
    {
     "data": {
      "image/png": "[encoded data removed]",
      "text/plain": [
       "<Figure size 720x720 with 2 Axes>"
      ]
     },
     "metadata": {
      "needs_background": "light"
     },
     "output_type": "display_data"
    }
   ],
   "source": [
    "fig, ax = plt.subplots(figsize=(10,10))\n",
    "sns.heatmap(final_df.corr(), annot=True)"
   ]
  },
  {
   "cell_type": "code",
   "execution_count": 35,
   "metadata": {},
   "outputs": [],
   "source": [
    "x = final_df.drop(['diagnosis'], axis=1)\n",
    "y = final_df['diagnosis']"
   ]
  },
  {
   "cell_type": "code",
   "execution_count": 36,
   "metadata": {},
   "outputs": [
    {
     "data": {
      "text/plain": [
       "array([3.47293814e+00, 2.62159533e+00, 1.68437500e+02, 1.50693357e-01,\n",
       "       2.69500000e+01, 8.11746988e+00, 2.95504386e+00, 5.26367188e+00])"
      ]
     },
     "execution_count": 36,
     "metadata": {},
     "output_type": "execute_result"
    }
   ],
   "source": [
    "class_weights = class_weight.compute_class_weight(classes = y.unique(), y=y, class_weight='balanced')\n",
    "class_weights"
   ]
  },
  {
   "cell_type": "code",
   "execution_count": 37,
   "metadata": {},
   "outputs": [
    {
     "data": {
      "text/plain": [
       "{0: 3.472938144329897,\n",
       " 1: 2.6215953307392996,\n",
       " 2: 168.4375,\n",
       " 3: 0.15069335719078505,\n",
       " 4: 26.95,\n",
       " 5: 8.117469879518072,\n",
       " 6: 2.955043859649123,\n",
       " 7: 5.263671875}"
      ]
     },
     "execution_count": 37,
     "metadata": {},
     "output_type": "execute_result"
    }
   ],
   "source": [
    "weights = { i : class_weights[i] for i in range(len(class_weights)) }\n",
    "weights"
   ]
  },
  {
   "cell_type": "code",
   "execution_count": 38,
   "metadata": {},
   "outputs": [],
   "source": [
    "x_train, x_test, y_train, y_test = train_test_split(x, y, test_size=0.2, random_state=1)"
   ]
  },
  {
   "cell_type": "code",
   "execution_count": 39,
   "metadata": {},
   "outputs": [
    {
     "data": {
      "text/html": [
       "<div>\n",
       "<style scoped>\n",
       "    .dataframe tbody tr th:only-of-type {\n",
       "        vertical-align: middle;\n",
       "    }\n",
       "\n",
       "    .dataframe tbody tr th {\n",
       "        vertical-align: top;\n",
       "    }\n",
       "\n",
       "    .dataframe thead th {\n",
       "        text-align: right;\n",
       "    }\n",
       "</style>\n",
       "<table border=\"1\" class=\"dataframe\">\n",
       "  <thead>\n",
       "    <tr style=\"text-align: right;\">\n",
       "      <th></th>\n",
       "      <th>age</th>\n",
       "      <th>sex</th>\n",
       "      <th>Asthma</th>\n",
       "      <th>Bronchiectasis</th>\n",
       "      <th>Bronchiolitis</th>\n",
       "      <th>COPD</th>\n",
       "      <th>Healthy</th>\n",
       "      <th>LRTI</th>\n",
       "      <th>Pneumonia</th>\n",
       "      <th>URTI</th>\n",
       "    </tr>\n",
       "  </thead>\n",
       "  <tbody>\n",
       "    <tr>\n",
       "      <th>1584</th>\n",
       "      <td>56.0</td>\n",
       "      <td>1.0</td>\n",
       "      <td>1.711775e-05</td>\n",
       "      <td>1.361941e-06</td>\n",
       "      <td>5.331538e-08</td>\n",
       "      <td>0.973159</td>\n",
       "      <td>2.620121e-05</td>\n",
       "      <td>3.800772e-05</td>\n",
       "      <td>2.635403e-02</td>\n",
       "      <td>4.042077e-04</td>\n",
       "    </tr>\n",
       "    <tr>\n",
       "      <th>133</th>\n",
       "      <td>75.0</td>\n",
       "      <td>1.0</td>\n",
       "      <td>3.616694e-11</td>\n",
       "      <td>2.276726e-15</td>\n",
       "      <td>4.980724e-15</td>\n",
       "      <td>1.000000</td>\n",
       "      <td>2.068833e-17</td>\n",
       "      <td>4.791515e-11</td>\n",
       "      <td>3.487116e-07</td>\n",
       "      <td>3.212035e-10</td>\n",
       "    </tr>\n",
       "    <tr>\n",
       "      <th>2954</th>\n",
       "      <td>79.0</td>\n",
       "      <td>0.0</td>\n",
       "      <td>2.279062e-06</td>\n",
       "      <td>1.386713e-03</td>\n",
       "      <td>1.817763e-04</td>\n",
       "      <td>0.834902</td>\n",
       "      <td>3.612054e-03</td>\n",
       "      <td>5.243130e-04</td>\n",
       "      <td>1.534258e-01</td>\n",
       "      <td>5.964865e-03</td>\n",
       "    </tr>\n",
       "    <tr>\n",
       "      <th>1673</th>\n",
       "      <td>61.0</td>\n",
       "      <td>0.0</td>\n",
       "      <td>1.149383e-06</td>\n",
       "      <td>7.953020e-01</td>\n",
       "      <td>2.134558e-02</td>\n",
       "      <td>0.017066</td>\n",
       "      <td>1.507467e-01</td>\n",
       "      <td>9.988710e-03</td>\n",
       "      <td>1.510344e-04</td>\n",
       "      <td>5.399243e-03</td>\n",
       "    </tr>\n",
       "    <tr>\n",
       "      <th>827</th>\n",
       "      <td>85.0</td>\n",
       "      <td>1.0</td>\n",
       "      <td>4.357496e-06</td>\n",
       "      <td>9.127187e-06</td>\n",
       "      <td>1.839261e-06</td>\n",
       "      <td>0.992622</td>\n",
       "      <td>6.744714e-07</td>\n",
       "      <td>1.603812e-04</td>\n",
       "      <td>6.829076e-03</td>\n",
       "      <td>3.727296e-04</td>\n",
       "    </tr>\n",
       "  </tbody>\n",
       "</table>\n",
       "</div>"
      ],
      "text/plain": [
       "       age  sex        Asthma  Bronchiectasis  Bronchiolitis      COPD  \\\n",
       "1584  56.0  1.0  1.711775e-05    1.361941e-06   5.331538e-08  0.973159   \n",
       "133   75.0  1.0  3.616694e-11    2.276726e-15   4.980724e-15  1.000000   \n",
       "2954  79.0  0.0  2.279062e-06    1.386713e-03   1.817763e-04  0.834902   \n",
       "1673  61.0  0.0  1.149383e-06    7.953020e-01   2.134558e-02  0.017066   \n",
       "827   85.0  1.0  4.357496e-06    9.127187e-06   1.839261e-06  0.992622   \n",
       "\n",
       "           Healthy          LRTI     Pneumonia          URTI  \n",
       "1584  2.620121e-05  3.800772e-05  2.635403e-02  4.042077e-04  \n",
       "133   2.068833e-17  4.791515e-11  3.487116e-07  3.212035e-10  \n",
       "2954  3.612054e-03  5.243130e-04  1.534258e-01  5.964865e-03  \n",
       "1673  1.507467e-01  9.988710e-03  1.510344e-04  5.399243e-03  \n",
       "827   6.744714e-07  1.603812e-04  6.829076e-03  3.727296e-04  "
      ]
     },
     "execution_count": 39,
     "metadata": {},
     "output_type": "execute_result"
    }
   ],
   "source": [
    "x_train.head()"
   ]
  },
  {
   "cell_type": "code",
   "execution_count": 40,
   "metadata": {},
   "outputs": [
    {
     "data": {
      "text/plain": [
       "1584    3\n",
       "133     3\n",
       "2954    3\n",
       "1673    3\n",
       "827     3\n",
       "       ..\n",
       "905     3\n",
       "5192    3\n",
       "3980    6\n",
       "235     3\n",
       "5157    3\n",
       "Name: diagnosis, Length: 4312, dtype: int64"
      ]
     },
     "execution_count": 40,
     "metadata": {},
     "output_type": "execute_result"
    }
   ],
   "source": [
    "y_train"
   ]
  },
  {
   "cell_type": "code",
   "execution_count": 41,
   "metadata": {},
   "outputs": [
    {
     "data": {
      "text/plain": [
       "LogisticRegression(C=1.0,\n",
       "                   class_weight={0: 3.472938144329897, 1: 2.6215953307392996,\n",
       "                                 2: 168.4375, 3: 0.15069335719078505, 4: 26.95,\n",
       "                                 5: 8.117469879518072, 6: 2.955043859649123,\n",
       "                                 7: 5.263671875},\n",
       "                   dual=False, fit_intercept=True, intercept_scaling=1,\n",
       "                   l1_ratio=None, max_iter=10000, multi_class='auto',\n",
       "                   n_jobs=None, penalty='l2', random_state=None, solver='lbfgs',\n",
       "                   tol=0.0001, verbose=0, warm_start=False)"
      ]
     },
     "execution_count": 41,
     "metadata": {},
     "output_type": "execute_result"
    }
   ],
   "source": [
    "l_model = LogisticRegression(max_iter=10000, class_weight=weights)\n",
    "l_model"
   ]
  },
  {
   "cell_type": "code",
   "execution_count": 42,
   "metadata": {},
   "outputs": [
    {
     "data": {
      "text/plain": [
       "array([1, 3, 4, ..., 4, 3, 6])"
      ]
     },
     "execution_count": 42,
     "metadata": {},
     "output_type": "execute_result"
    }
   ],
   "source": [
    "l_model.fit(x_train, y_train)\n",
    "y_pred = l_model.predict(x_test)\n",
    "y_pred"
   ]
  },
  {
   "cell_type": "code",
   "execution_count": 43,
   "metadata": {},
   "outputs": [
    {
     "name": "stdout",
     "output_type": "stream",
     "text": [
      "accuracy (logistic regression): 0.40816326530612246\n",
      "f1 score (logistic regression): 0.5145521268501039\n",
      "recall (logistic regression): 0.40816326530612246\n",
      "f1 score (logistic regression all): [0.         0.1        0.3880597  0.57973291 0.4040404  0.\n",
      " 0.08       0.        ]\n",
      "recall (logistic regression all): [0.         0.22222222 1.         0.41600902 0.31746032 0.\n",
      " 0.53846154 0.        ]\n",
      "precision (logistic regression all): [0.         0.06451613 0.24074074 0.95595855 0.55555556 0.\n",
      " 0.04320988 0.        ]\n"
     ]
    },
    {
     "name": "stderr",
     "output_type": "stream",
     "text": [
      "/opt/conda/lib/python3.6/site-packages/sklearn/metrics/_classification.py:1272: UndefinedMetricWarning: Precision is ill-defined and being set to 0.0 in labels with no predicted samples. Use `zero_division` parameter to control this behavior.\n",
      "  _warn_prf(average, modifier, msg_start, len(result))\n"
     ]
    }
   ],
   "source": [
    "print('accuracy (logistic regression): ' + str(metrics.accuracy_score(y_test, y_pred)))\n",
    "print('f1 score (logistic regression): ' + str(metrics.f1_score(y_test, y_pred, average='weighted')))\n",
    "print('recall (logistic regression): ' + str(metrics.recall_score(y_test, y_pred, average='weighted')))\n",
    "print('f1 score (logistic regression all): ' + str(metrics.f1_score(y_test, y_pred, average=None)))\n",
    "print('recall (logistic regression all): ' + str(metrics.recall_score(y_test, y_pred, average=None)))\n",
    "print('precision (logistic regression all): ' + str(metrics.precision_score(y_test, y_pred, average=None)))"
   ]
  },
  {
   "cell_type": "code",
   "execution_count": 44,
   "metadata": {},
   "outputs": [
    {
     "data": {
      "text/plain": [
       "DecisionTreeClassifier(ccp_alpha=0.0,\n",
       "                       class_weight={0: 3.472938144329897,\n",
       "                                     1: 2.6215953307392996, 2: 168.4375,\n",
       "                                     3: 0.15069335719078505, 4: 26.95,\n",
       "                                     5: 8.117469879518072, 6: 2.955043859649123,\n",
       "                                     7: 5.263671875},\n",
       "                       criterion='gini', max_depth=None, max_features=None,\n",
       "                       max_leaf_nodes=None, min_impurity_decrease=0.0,\n",
       "                       min_impurity_split=None, min_samples_leaf=1,\n",
       "                       min_samples_split=2, min_weight_fraction_leaf=0.0,\n",
       "                       presort='deprecated', random_state=None,\n",
       "                       splitter='best')"
      ]
     },
     "execution_count": 44,
     "metadata": {},
     "output_type": "execute_result"
    }
   ],
   "source": [
    "dtree = DecisionTreeClassifier(class_weight=weights)\n",
    "dtree"
   ]
  },
  {
   "cell_type": "code",
   "execution_count": 45,
   "metadata": {},
   "outputs": [
    {
     "data": {
      "text/plain": [
       "array([3, 3, 6, ..., 4, 3, 6])"
      ]
     },
     "execution_count": 45,
     "metadata": {},
     "output_type": "execute_result"
    }
   ],
   "source": [
    "dtree.fit(x_train, y_train)\n",
    "y_pred = dtree.predict(x_test)\n",
    "y_pred"
   ]
  },
  {
   "cell_type": "code",
   "execution_count": 46,
   "metadata": {},
   "outputs": [
    {
     "name": "stdout",
     "output_type": "stream",
     "text": [
      "accuracy (decision tree): 0.924860853432282\n",
      "f1 score (decision tree): 0.9274619362144052\n",
      "recall (decision tree): 0.924860853432282\n",
      "f1 score (decision tree all): [0.         0.62222222 0.65384615 0.9738041  0.848      0.66666667\n",
      " 0.65168539 0.65853659]\n",
      "recall (decision tree all): [0.         0.77777778 0.65384615 0.96392334 0.84126984 0.66666667\n",
      " 0.74358974 0.65853659]\n",
      "precision (decision tree all): [0.         0.51851852 0.65384615 0.98388953 0.85483871 0.66666667\n",
      " 0.58       0.65853659]\n"
     ]
    },
    {
     "name": "stderr",
     "output_type": "stream",
     "text": [
      "/opt/conda/lib/python3.6/site-packages/sklearn/metrics/_classification.py:1272: UndefinedMetricWarning: Precision is ill-defined and being set to 0.0 in labels with no predicted samples. Use `zero_division` parameter to control this behavior.\n",
      "  _warn_prf(average, modifier, msg_start, len(result))\n"
     ]
    }
   ],
   "source": [
    "print('accuracy (decision tree): ' + str(metrics.accuracy_score(y_test, y_pred)))\n",
    "print('f1 score (decision tree): ' + str(metrics.f1_score(y_test, y_pred, average='weighted')))\n",
    "print('recall (decision tree): ' + str(metrics.recall_score(y_test, y_pred, average='weighted')))\n",
    "print('f1 score (decision tree all): ' + str(metrics.f1_score(y_test, y_pred, average=None)))\n",
    "print('recall (decision tree all): ' + str(metrics.recall_score(y_test, y_pred, average=None)))\n",
    "print('precision (decision tree all): ' + str(metrics.precision_score(y_test, y_pred, average=None)))"
   ]
  },
  {
   "cell_type": "code",
   "execution_count": 47,
   "metadata": {},
   "outputs": [
    {
     "data": {
      "text/plain": [
       "RandomForestClassifier(bootstrap=True, ccp_alpha=0.0,\n",
       "                       class_weight={0: 3.472938144329897,\n",
       "                                     1: 2.6215953307392996, 2: 168.4375,\n",
       "                                     3: 0.15069335719078505, 4: 26.95,\n",
       "                                     5: 8.117469879518072, 6: 2.955043859649123,\n",
       "                                     7: 5.263671875},\n",
       "                       criterion='gini', max_depth=None, max_features='auto',\n",
       "                       max_leaf_nodes=None, max_samples=None,\n",
       "                       min_impurity_decrease=0.0, min_impurity_split=None,\n",
       "                       min_samples_leaf=1, min_samples_split=2,\n",
       "                       min_weight_fraction_leaf=0.0, n_estimators=100,\n",
       "                       n_jobs=None, oob_score=False, random_state=None,\n",
       "                       verbose=0, warm_start=False)"
      ]
     },
     "execution_count": 47,
     "metadata": {},
     "output_type": "execute_result"
    }
   ],
   "source": [
    "rforest = RandomForestClassifier(class_weight=weights)\n",
    "rforest"
   ]
  },
  {
   "cell_type": "code",
   "execution_count": 48,
   "metadata": {},
   "outputs": [
    {
     "data": {
      "text/plain": [
       "array([3, 3, 6, ..., 7, 3, 3])"
      ]
     },
     "execution_count": 48,
     "metadata": {},
     "output_type": "execute_result"
    }
   ],
   "source": [
    "rforest.fit(x_train, y_train)\n",
    "y_pred = rforest.predict(x_test)\n",
    "y_pred"
   ]
  },
  {
   "cell_type": "code",
   "execution_count": 49,
   "metadata": {},
   "outputs": [
    {
     "name": "stdout",
     "output_type": "stream",
     "text": [
      "accuracy (random forest): 0.9016697588126159\n",
      "f1 score (random forest): 0.8873646038541749\n",
      "recall (random forest): 0.9016697588126159\n",
      "f1 score (random forest all): [0.         0.         0.46153846 0.96859504 0.76190476 0.8\n",
      " 0.32727273 0.54320988]\n",
      "recall (random forest all): [0.         0.         0.46153846 0.99098083 0.76190476 0.66666667\n",
      " 0.23076923 0.53658537]\n",
      "precision (random forest all): [0.         0.         0.46153846 0.94719828 0.76190476 1.\n",
      " 0.5625     0.55      ]\n"
     ]
    },
    {
     "name": "stderr",
     "output_type": "stream",
     "text": [
      "/opt/conda/lib/python3.6/site-packages/sklearn/metrics/_classification.py:1272: UndefinedMetricWarning: Precision is ill-defined and being set to 0.0 in labels with no predicted samples. Use `zero_division` parameter to control this behavior.\n",
      "  _warn_prf(average, modifier, msg_start, len(result))\n"
     ]
    }
   ],
   "source": [
    "print('accuracy (random forest): ' + str(metrics.accuracy_score(y_test, y_pred)))\n",
    "print('f1 score (random forest): ' + str(metrics.f1_score(y_test, y_pred, average='weighted')))\n",
    "print('recall (random forest): ' + str(metrics.recall_score(y_test, y_pred, average='weighted')))\n",
    "print('f1 score (random forest all): ' + str(metrics.f1_score(y_test, y_pred, average=None)))\n",
    "print('recall (random forest all): ' + str(metrics.recall_score(y_test, y_pred, average=None)))\n",
    "print('precision (random forest all): ' + str(metrics.precision_score(y_test, y_pred, average=None)))"
   ]
  },
  {
   "cell_type": "code",
   "execution_count": 50,
   "metadata": {},
   "outputs": [
    {
     "data": {
      "text/plain": [
       "MLPClassifier(activation='relu', alpha=0.0001, batch_size='auto', beta_1=0.9,\n",
       "              beta_2=0.999, early_stopping=False, epsilon=1e-08,\n",
       "              hidden_layer_sizes=(100,), learning_rate='adaptive',\n",
       "              learning_rate_init=0.001, max_fun=15000, max_iter=10000,\n",
       "              momentum=0.9, n_iter_no_change=10, nesterovs_momentum=True,\n",
       "              power_t=0.5, random_state=None, shuffle=True, solver='adam',\n",
       "              tol=0.0001, validation_fraction=0.1, verbose=False,\n",
       "              warm_start=False)"
      ]
     },
     "execution_count": 50,
     "metadata": {},
     "output_type": "execute_result"
    }
   ],
   "source": [
    "mlp = MLPClassifier(max_iter=10000, learning_rate='adaptive')\n",
    "mlp"
   ]
  },
  {
   "cell_type": "code",
   "execution_count": 51,
   "metadata": {},
   "outputs": [
    {
     "data": {
      "text/plain": [
       "array([3, 3, 7, ..., 7, 3, 3])"
      ]
     },
     "execution_count": 51,
     "metadata": {},
     "output_type": "execute_result"
    }
   ],
   "source": [
    "mlp.fit(x_train, y_train)\n",
    "y_pred = mlp.predict(x_test)\n",
    "y_pred"
   ]
  },
  {
   "cell_type": "code",
   "execution_count": 52,
   "metadata": {},
   "outputs": [
    {
     "name": "stdout",
     "output_type": "stream",
     "text": [
      "accuracy (mlp): 0.9053803339517625\n",
      "f1 score (mlp): 0.8801090328174545\n",
      "recall (mlp): 0.9053803339517625\n",
      "f1 score (mlp all): [0.         0.         0.54166667 0.97419001 0.70175439 0.\n",
      " 0.         0.64285714]\n",
      "recall (mlp all): [0.         0.         0.5        1.         0.63492063 0.\n",
      " 0.         0.87804878]\n",
      "precision (mlp all): [0.         0.         0.59090909 0.9496788  0.78431373 0.\n",
      " 0.         0.50704225]\n"
     ]
    },
    {
     "name": "stderr",
     "output_type": "stream",
     "text": [
      "/opt/conda/lib/python3.6/site-packages/sklearn/metrics/_classification.py:1272: UndefinedMetricWarning: Precision is ill-defined and being set to 0.0 in labels with no predicted samples. Use `zero_division` parameter to control this behavior.\n",
      "  _warn_prf(average, modifier, msg_start, len(result))\n"
     ]
    }
   ],
   "source": [
    "print('accuracy (mlp): ' + str(metrics.accuracy_score(y_test, y_pred)))\n",
    "print('f1 score (mlp): ' + str(metrics.f1_score(y_test, y_pred, average='weighted')))\n",
    "print('recall (mlp): ' + str(metrics.recall_score(y_test, y_pred, average='weighted')))\n",
    "print('f1 score (mlp all): ' + str(metrics.f1_score(y_test, y_pred, average=None)))\n",
    "print('recall (mlp all): ' + str(metrics.recall_score(y_test, y_pred, average=None)))\n",
    "print('precision (mlp all): ' + str(metrics.precision_score(y_test, y_pred, average=None)))"
   ]
  },
  {
   "cell_type": "code",
   "execution_count": 53,
   "metadata": {},
   "outputs": [
    {
     "data": {
      "text/plain": [
       "SVC(C=1.0, break_ties=False, cache_size=200,\n",
       "    class_weight={0: 3.472938144329897, 1: 2.6215953307392996, 2: 168.4375,\n",
       "                  3: 0.15069335719078505, 4: 26.95, 5: 8.117469879518072,\n",
       "                  6: 2.955043859649123, 7: 5.263671875},\n",
       "    coef0=0.0, decision_function_shape='ovr', degree=3, gamma='scale',\n",
       "    kernel='rbf', max_iter=-1, probability=False, random_state=None,\n",
       "    shrinking=True, tol=0.001, verbose=False)"
      ]
     },
     "execution_count": 53,
     "metadata": {},
     "output_type": "execute_result"
    }
   ],
   "source": [
    "svc = SVC(class_weight=weights)\n",
    "svc"
   ]
  },
  {
   "cell_type": "code",
   "execution_count": 54,
   "metadata": {},
   "outputs": [
    {
     "data": {
      "text/plain": [
       "array([3, 3, 2, ..., 2, 3, 3])"
      ]
     },
     "execution_count": 54,
     "metadata": {},
     "output_type": "execute_result"
    }
   ],
   "source": [
    "svc.fit(x_train, y_train)\n",
    "y_pred = svc.predict(x_test)\n",
    "y_pred"
   ]
  },
  {
   "cell_type": "code",
   "execution_count": 55,
   "metadata": {},
   "outputs": [
    {
     "name": "stdout",
     "output_type": "stream",
     "text": [
      "accuracy (svc): 0.6706864564007421\n",
      "f1 score (svc): 0.7245816950118605\n",
      "recall (svc): 0.6706864564007421\n",
      "f1 score (svc all): [0.         0.         0.3537415  0.84275948 0.37209302 0.\n",
      " 0.02390438 0.        ]\n",
      "recall (svc all): [0.         0.         1.         0.7643743  0.25396825 0.\n",
      " 0.07692308 0.        ]\n",
      "precision (svc all): [0.         0.         0.21487603 0.93905817 0.69565217 0.\n",
      " 0.01415094 0.        ]\n"
     ]
    },
    {
     "name": "stderr",
     "output_type": "stream",
     "text": [
      "/opt/conda/lib/python3.6/site-packages/sklearn/metrics/_classification.py:1272: UndefinedMetricWarning: Precision is ill-defined and being set to 0.0 in labels with no predicted samples. Use `zero_division` parameter to control this behavior.\n",
      "  _warn_prf(average, modifier, msg_start, len(result))\n"
     ]
    }
   ],
   "source": [
    "print('accuracy (svc): ' + str(metrics.accuracy_score(y_test, y_pred)))\n",
    "print('f1 score (svc): ' + str(metrics.f1_score(y_test, y_pred, average='weighted')))\n",
    "print('recall (svc): ' + str(metrics.recall_score(y_test, y_pred, average='weighted')))\n",
    "print('f1 score (svc all): ' + str(metrics.f1_score(y_test, y_pred, average=None)))\n",
    "print('recall (svc all): ' + str(metrics.recall_score(y_test, y_pred, average=None)))\n",
    "print('precision (svc all): ' + str(metrics.precision_score(y_test, y_pred, average=None)))"
   ]
  },
  {
   "cell_type": "markdown",
   "metadata": {},
   "source": [
    "---------------------"
   ]
  },
  {
   "cell_type": "code",
   "execution_count": 56,
   "metadata": {},
   "outputs": [
    {
     "data": {
      "text/html": [
       "<div>\n",
       "<style scoped>\n",
       "    .dataframe tbody tr th:only-of-type {\n",
       "        vertical-align: middle;\n",
       "    }\n",
       "\n",
       "    .dataframe tbody tr th {\n",
       "        vertical-align: top;\n",
       "    }\n",
       "\n",
       "    .dataframe thead th {\n",
       "        text-align: right;\n",
       "    }\n",
       "</style>\n",
       "<table border=\"1\" class=\"dataframe\">\n",
       "  <thead>\n",
       "    <tr style=\"text-align: right;\">\n",
       "      <th></th>\n",
       "      <th>pId</th>\n",
       "      <th>diagnosis</th>\n",
       "      <th>age</th>\n",
       "      <th>sex</th>\n",
       "      <th>filename</th>\n",
       "      <th>0</th>\n",
       "    </tr>\n",
       "  </thead>\n",
       "  <tbody>\n",
       "    <tr>\n",
       "      <th>0</th>\n",
       "      <td>101</td>\n",
       "      <td>URTI</td>\n",
       "      <td>3.0</td>\n",
       "      <td>F</td>\n",
       "      <td>101_1b1_Pr_sc_Meditron_7.png</td>\n",
       "      <td>4</td>\n",
       "    </tr>\n",
       "    <tr>\n",
       "      <th>1</th>\n",
       "      <td>101</td>\n",
       "      <td>URTI</td>\n",
       "      <td>3.0</td>\n",
       "      <td>F</td>\n",
       "      <td>101_1b1_Pr_sc_Meditron_5.png</td>\n",
       "      <td>3</td>\n",
       "    </tr>\n",
       "    <tr>\n",
       "      <th>2</th>\n",
       "      <td>101</td>\n",
       "      <td>URTI</td>\n",
       "      <td>3.0</td>\n",
       "      <td>F</td>\n",
       "      <td>101_1b1_Pr_sc_Meditron_0.png</td>\n",
       "      <td>3</td>\n",
       "    </tr>\n",
       "    <tr>\n",
       "      <th>3</th>\n",
       "      <td>101</td>\n",
       "      <td>URTI</td>\n",
       "      <td>3.0</td>\n",
       "      <td>F</td>\n",
       "      <td>101_1b1_Pr_sc_Meditron_1.png</td>\n",
       "      <td>3</td>\n",
       "    </tr>\n",
       "    <tr>\n",
       "      <th>4</th>\n",
       "      <td>101</td>\n",
       "      <td>URTI</td>\n",
       "      <td>3.0</td>\n",
       "      <td>F</td>\n",
       "      <td>101_1b1_Al_sc_Meditron_10.png</td>\n",
       "      <td>1</td>\n",
       "    </tr>\n",
       "  </tbody>\n",
       "</table>\n",
       "</div>"
      ],
      "text/plain": [
       "   pId diagnosis  age sex                       filename  0\n",
       "0  101      URTI  3.0   F   101_1b1_Pr_sc_Meditron_7.png  4\n",
       "1  101      URTI  3.0   F   101_1b1_Pr_sc_Meditron_5.png  3\n",
       "2  101      URTI  3.0   F   101_1b1_Pr_sc_Meditron_0.png  3\n",
       "3  101      URTI  3.0   F   101_1b1_Pr_sc_Meditron_1.png  3\n",
       "4  101      URTI  3.0   F  101_1b1_Al_sc_Meditron_10.png  1"
      ]
     },
     "execution_count": 56,
     "metadata": {},
     "output_type": "execute_result"
    }
   ],
   "source": [
    "df_with_max = df.merge(pd.DataFrame(result_max), left_index=True, right_index=True)\n",
    "df_with_max.head()"
   ]
  },
  {
   "cell_type": "code",
   "execution_count": 57,
   "metadata": {},
   "outputs": [],
   "source": [
    "df_with_max.drop(['pId', 'filename'], axis=1, inplace=True)"
   ]
  },
  {
   "cell_type": "code",
   "execution_count": 58,
   "metadata": {},
   "outputs": [
    {
     "data": {
      "text/html": [
       "<div>\n",
       "<style scoped>\n",
       "    .dataframe tbody tr th:only-of-type {\n",
       "        vertical-align: middle;\n",
       "    }\n",
       "\n",
       "    .dataframe tbody tr th {\n",
       "        vertical-align: top;\n",
       "    }\n",
       "\n",
       "    .dataframe thead th {\n",
       "        text-align: right;\n",
       "    }\n",
       "</style>\n",
       "<table border=\"1\" class=\"dataframe\">\n",
       "  <thead>\n",
       "    <tr style=\"text-align: right;\">\n",
       "      <th></th>\n",
       "      <th>diagnosis</th>\n",
       "      <th>age</th>\n",
       "      <th>sex</th>\n",
       "      <th>prediction</th>\n",
       "    </tr>\n",
       "  </thead>\n",
       "  <tbody>\n",
       "    <tr>\n",
       "      <th>0</th>\n",
       "      <td>URTI</td>\n",
       "      <td>3.0</td>\n",
       "      <td>F</td>\n",
       "      <td>4</td>\n",
       "    </tr>\n",
       "    <tr>\n",
       "      <th>1</th>\n",
       "      <td>URTI</td>\n",
       "      <td>3.0</td>\n",
       "      <td>F</td>\n",
       "      <td>3</td>\n",
       "    </tr>\n",
       "    <tr>\n",
       "      <th>2</th>\n",
       "      <td>URTI</td>\n",
       "      <td>3.0</td>\n",
       "      <td>F</td>\n",
       "      <td>3</td>\n",
       "    </tr>\n",
       "    <tr>\n",
       "      <th>3</th>\n",
       "      <td>URTI</td>\n",
       "      <td>3.0</td>\n",
       "      <td>F</td>\n",
       "      <td>3</td>\n",
       "    </tr>\n",
       "    <tr>\n",
       "      <th>4</th>\n",
       "      <td>URTI</td>\n",
       "      <td>3.0</td>\n",
       "      <td>F</td>\n",
       "      <td>1</td>\n",
       "    </tr>\n",
       "  </tbody>\n",
       "</table>\n",
       "</div>"
      ],
      "text/plain": [
       "  diagnosis  age sex  prediction\n",
       "0      URTI  3.0   F           4\n",
       "1      URTI  3.0   F           3\n",
       "2      URTI  3.0   F           3\n",
       "3      URTI  3.0   F           3\n",
       "4      URTI  3.0   F           1"
      ]
     },
     "execution_count": 58,
     "metadata": {},
     "output_type": "execute_result"
    }
   ],
   "source": [
    "df_with_max.rename(columns={'diagnosis': 'diagnosis', 'age': 'age', 'sex': 'sex', 0: 'prediction'}, inplace=True)\n",
    "df_with_max.head()"
   ]
  },
  {
   "cell_type": "code",
   "execution_count": 59,
   "metadata": {},
   "outputs": [],
   "source": [
    "df_with_max['age'].fillna(df_with_max['age'].describe().mean(), inplace=True)"
   ]
  },
  {
   "cell_type": "code",
   "execution_count": 60,
   "metadata": {},
   "outputs": [],
   "source": [
    "df_with_max['sex'].fillna(df_with_max['sex'].describe().top, inplace=True)"
   ]
  },
  {
   "cell_type": "code",
   "execution_count": 61,
   "metadata": {},
   "outputs": [],
   "source": [
    "df_with_max['sex'] = df_with_max['sex'].map({'M': 0, 'F': 1})"
   ]
  },
  {
   "cell_type": "code",
   "execution_count": 62,
   "metadata": {},
   "outputs": [
    {
     "data": {
      "text/plain": [
       "array([7, 7, 7, ..., 6, 6, 6])"
      ]
     },
     "execution_count": 62,
     "metadata": {},
     "output_type": "execute_result"
    }
   ],
   "source": [
    "label_encoder = LabelEncoder()\n",
    "diag_encoded = label_encoder.fit_transform(df_with_max['diagnosis'])\n",
    "diag_encoded"
   ]
  },
  {
   "cell_type": "code",
   "execution_count": 63,
   "metadata": {},
   "outputs": [],
   "source": [
    "df_with_max['diagnosis'] = diag_encoded"
   ]
  },
  {
   "cell_type": "code",
   "execution_count": 64,
   "metadata": {},
   "outputs": [
    {
     "data": {
      "text/plain": [
       "diagnosis     0\n",
       "age           0\n",
       "sex           0\n",
       "prediction    0\n",
       "dtype: int64"
      ]
     },
     "execution_count": 64,
     "metadata": {},
     "output_type": "execute_result"
    }
   ],
   "source": [
    "df_with_max.isnull().sum()"
   ]
  },
  {
   "cell_type": "code",
   "execution_count": 65,
   "metadata": {},
   "outputs": [
    {
     "data": {
      "text/html": [
       "<div>\n",
       "<style scoped>\n",
       "    .dataframe tbody tr th:only-of-type {\n",
       "        vertical-align: middle;\n",
       "    }\n",
       "\n",
       "    .dataframe tbody tr th {\n",
       "        vertical-align: top;\n",
       "    }\n",
       "\n",
       "    .dataframe thead th {\n",
       "        text-align: right;\n",
       "    }\n",
       "</style>\n",
       "<table border=\"1\" class=\"dataframe\">\n",
       "  <thead>\n",
       "    <tr style=\"text-align: right;\">\n",
       "      <th></th>\n",
       "      <th>diagnosis</th>\n",
       "      <th>age</th>\n",
       "      <th>sex</th>\n",
       "      <th>prediction</th>\n",
       "    </tr>\n",
       "  </thead>\n",
       "  <tbody>\n",
       "    <tr>\n",
       "      <th>0</th>\n",
       "      <td>7</td>\n",
       "      <td>3.0</td>\n",
       "      <td>1</td>\n",
       "      <td>4</td>\n",
       "    </tr>\n",
       "    <tr>\n",
       "      <th>1</th>\n",
       "      <td>7</td>\n",
       "      <td>3.0</td>\n",
       "      <td>1</td>\n",
       "      <td>3</td>\n",
       "    </tr>\n",
       "    <tr>\n",
       "      <th>2</th>\n",
       "      <td>7</td>\n",
       "      <td>3.0</td>\n",
       "      <td>1</td>\n",
       "      <td>3</td>\n",
       "    </tr>\n",
       "    <tr>\n",
       "      <th>3</th>\n",
       "      <td>7</td>\n",
       "      <td>3.0</td>\n",
       "      <td>1</td>\n",
       "      <td>3</td>\n",
       "    </tr>\n",
       "    <tr>\n",
       "      <th>4</th>\n",
       "      <td>7</td>\n",
       "      <td>3.0</td>\n",
       "      <td>1</td>\n",
       "      <td>1</td>\n",
       "    </tr>\n",
       "  </tbody>\n",
       "</table>\n",
       "</div>"
      ],
      "text/plain": [
       "   diagnosis  age  sex  prediction\n",
       "0          7  3.0    1           4\n",
       "1          7  3.0    1           3\n",
       "2          7  3.0    1           3\n",
       "3          7  3.0    1           3\n",
       "4          7  3.0    1           1"
      ]
     },
     "execution_count": 65,
     "metadata": {},
     "output_type": "execute_result"
    }
   ],
   "source": [
    "df_with_max.head()"
   ]
  },
  {
   "cell_type": "code",
   "execution_count": 66,
   "metadata": {},
   "outputs": [],
   "source": [
    "x = df_with_max.drop(['diagnosis'], axis=1)\n",
    "y = df_with_max['diagnosis']"
   ]
  },
  {
   "cell_type": "code",
   "execution_count": 67,
   "metadata": {},
   "outputs": [
    {
     "data": {
      "text/plain": [
       "{0: 3.472938144329897,\n",
       " 1: 2.6215953307392996,\n",
       " 2: 168.4375,\n",
       " 3: 0.15069335719078505,\n",
       " 4: 26.95,\n",
       " 5: 8.117469879518072,\n",
       " 6: 2.955043859649123,\n",
       " 7: 5.263671875}"
      ]
     },
     "execution_count": 67,
     "metadata": {},
     "output_type": "execute_result"
    }
   ],
   "source": [
    "weights = { i : class_weights[i] for i in range(len(class_weights)) }\n",
    "weights"
   ]
  },
  {
   "cell_type": "code",
   "execution_count": 68,
   "metadata": {},
   "outputs": [],
   "source": [
    "x_train, x_test, y_train, y_test = train_test_split(x, y, test_size=0.2, random_state=1)"
   ]
  },
  {
   "cell_type": "code",
   "execution_count": 69,
   "metadata": {},
   "outputs": [
    {
     "data": {
      "text/plain": [
       "array([1, 3, 2, ..., 4, 3, 6])"
      ]
     },
     "execution_count": 69,
     "metadata": {},
     "output_type": "execute_result"
    }
   ],
   "source": [
    "l_model = LogisticRegression(max_iter=10000, class_weight=weights)\n",
    "l_model.fit(x_train, y_train)\n",
    "y_pred = l_model.predict(x_test)\n",
    "y_pred"
   ]
  },
  {
   "cell_type": "code",
   "execution_count": 70,
   "metadata": {},
   "outputs": [
    {
     "name": "stdout",
     "output_type": "stream",
     "text": [
      "accuracy (logistic regression): 0.40630797773654914\n",
      "f1 score (logistic regression): 0.510975890445845\n",
      "recall (logistic regression): 0.40630797773654914\n",
      "f1 score (logistic regression all): [0.         0.08510638 0.38235294 0.57616417 0.39175258 0.\n",
      " 0.09284333 0.        ]\n",
      "recall (logistic regression all): [0.         0.22222222 1.         0.41149944 0.3015873  0.\n",
      " 0.61538462 0.        ]\n",
      "precision (logistic regression all): [0.         0.05263158 0.23636364 0.96052632 0.55882353 0.\n",
      " 0.05020921 0.        ]\n"
     ]
    },
    {
     "name": "stderr",
     "output_type": "stream",
     "text": [
      "/opt/conda/lib/python3.6/site-packages/sklearn/metrics/_classification.py:1272: UndefinedMetricWarning: Precision is ill-defined and being set to 0.0 in labels with no predicted samples. Use `zero_division` parameter to control this behavior.\n",
      "  _warn_prf(average, modifier, msg_start, len(result))\n"
     ]
    }
   ],
   "source": [
    "print('accuracy (logistic regression): ' + str(metrics.accuracy_score(y_test, y_pred)))\n",
    "print('f1 score (logistic regression): ' + str(metrics.f1_score(y_test, y_pred, average='weighted')))\n",
    "print('recall (logistic regression): ' + str(metrics.recall_score(y_test, y_pred, average='weighted')))\n",
    "print('f1 score (logistic regression all): ' + str(metrics.f1_score(y_test, y_pred, average=None)))\n",
    "print('recall (logistic regression all): ' + str(metrics.recall_score(y_test, y_pred, average=None)))\n",
    "print('precision (logistic regression all): ' + str(metrics.precision_score(y_test, y_pred, average=None)))"
   ]
  },
  {
   "cell_type": "code",
   "execution_count": 71,
   "metadata": {},
   "outputs": [
    {
     "data": {
      "text/plain": [
       "array([1, 3, 7, ..., 7, 3, 6])"
      ]
     },
     "execution_count": 71,
     "metadata": {},
     "output_type": "execute_result"
    }
   ],
   "source": [
    "dtree = DecisionTreeClassifier(max_depth=8, class_weight=weights)\n",
    "dtree.fit(x_train, y_train)\n",
    "y_pred = dtree.predict(x_test)\n",
    "y_pred"
   ]
  },
  {
   "cell_type": "code",
   "execution_count": 72,
   "metadata": {},
   "outputs": [
    {
     "name": "stdout",
     "output_type": "stream",
     "text": [
      "accuracy (decision tree): 0.8153988868274582\n",
      "f1 score (decision tree): 0.8534505753551372\n",
      "recall (decision tree): 0.8153988868274582\n",
      "f1 score (decision tree all): [0.         0.32727273 0.60465116 0.90438001 0.87719298 0.8\n",
      " 0.42384106 0.53731343]\n",
      "recall (decision tree all): [0.         1.         1.         0.82638106 0.79365079 0.66666667\n",
      " 0.82051282 0.43902439]\n",
      "precision (decision tree all): [0.         0.19565217 0.43333333 0.9986376  0.98039216 1.\n",
      " 0.28571429 0.69230769]\n"
     ]
    }
   ],
   "source": [
    "print('accuracy (decision tree): ' + str(metrics.accuracy_score(y_test, y_pred)))\n",
    "print('f1 score (decision tree): ' + str(metrics.f1_score(y_test, y_pred, average='weighted')))\n",
    "print('recall (decision tree): ' + str(metrics.recall_score(y_test, y_pred, average='weighted')))\n",
    "print('f1 score (decision tree all): ' + str(metrics.f1_score(y_test, y_pred, average=None)))\n",
    "print('recall (decision tree all): ' + str(metrics.recall_score(y_test, y_pred, average=None)))\n",
    "print('precision (decision tree all): ' + str(metrics.precision_score(y_test, y_pred, average=None)))"
   ]
  },
  {
   "cell_type": "code",
   "execution_count": 73,
   "metadata": {},
   "outputs": [
    {
     "data": {
      "text/plain": [
       "array([1, 3, 7, ..., 7, 3, 6])"
      ]
     },
     "execution_count": 73,
     "metadata": {},
     "output_type": "execute_result"
    }
   ],
   "source": [
    "rforest = RandomForestClassifier(class_weight=weights)\n",
    "rforest.fit(x_train, y_train)\n",
    "y_pred = rforest.predict(x_test)\n",
    "y_pred"
   ]
  },
  {
   "cell_type": "code",
   "execution_count": 74,
   "metadata": {},
   "outputs": [
    {
     "name": "stdout",
     "output_type": "stream",
     "text": [
      "accuracy (random forest): 0.852504638218924\n",
      "f1 score (random forest): 0.8798217435511624\n",
      "recall (random forest): 0.852504638218924\n",
      "f1 score (random forest all): [0.         0.33663366 0.6097561  0.93045564 0.875      0.66666667\n",
      " 0.50877193 0.5915493 ]\n",
      "recall (random forest all): [0.         0.94444444 0.96153846 0.87485908 0.77777778 0.66666667\n",
      " 0.74358974 0.51219512]\n",
      "precision (random forest all): [0.         0.20481928 0.44642857 0.99359795 1.         0.66666667\n",
      " 0.38666667 0.7       ]\n"
     ]
    }
   ],
   "source": [
    "print('accuracy (random forest): ' + str(metrics.accuracy_score(y_test, y_pred)))\n",
    "print('f1 score (random forest): ' + str(metrics.f1_score(y_test, y_pred, average='weighted')))\n",
    "print('recall (random forest): ' + str(metrics.recall_score(y_test, y_pred, average='weighted')))\n",
    "print('f1 score (random forest all): ' + str(metrics.f1_score(y_test, y_pred, average=None)))\n",
    "print('recall (random forest all): ' + str(metrics.recall_score(y_test, y_pred, average=None)))\n",
    "print('precision (random forest all): ' + str(metrics.precision_score(y_test, y_pred, average=None)))"
   ]
  },
  {
   "cell_type": "code",
   "execution_count": 75,
   "metadata": {},
   "outputs": [
    {
     "data": {
      "text/plain": [
       "array([3, 3, 7, ..., 7, 3, 3])"
      ]
     },
     "execution_count": 75,
     "metadata": {},
     "output_type": "execute_result"
    }
   ],
   "source": [
    "mlp = MLPClassifier(max_iter=10000, learning_rate='adaptive')\n",
    "mlp.fit(x_train, y_train)\n",
    "y_pred = mlp.predict(x_test)\n",
    "y_pred"
   ]
  },
  {
   "cell_type": "code",
   "execution_count": 76,
   "metadata": {},
   "outputs": [
    {
     "name": "stdout",
     "output_type": "stream",
     "text": [
      "accuracy (mlp): 0.9025974025974026\n",
      "f1 score (mlp): 0.8786826329688079\n",
      "recall (mlp): 0.9025974025974026\n",
      "f1 score (mlp all): [0.         0.10526316 0.57692308 0.97365532 0.66129032 0.\n",
      " 0.         0.61052632]\n",
      "recall (mlp all): [0.         0.05555556 0.57692308 1.         0.65079365 0.\n",
      " 0.         0.70731707]\n",
      "precision (mlp all): [0.         1.         0.57692308 0.9486631  0.67213115 0.\n",
      " 0.         0.53703704]\n"
     ]
    },
    {
     "name": "stderr",
     "output_type": "stream",
     "text": [
      "/opt/conda/lib/python3.6/site-packages/sklearn/metrics/_classification.py:1272: UndefinedMetricWarning: Precision is ill-defined and being set to 0.0 in labels with no predicted samples. Use `zero_division` parameter to control this behavior.\n",
      "  _warn_prf(average, modifier, msg_start, len(result))\n"
     ]
    }
   ],
   "source": [
    "print('accuracy (mlp): ' + str(metrics.accuracy_score(y_test, y_pred)))\n",
    "print('f1 score (mlp): ' + str(metrics.f1_score(y_test, y_pred, average='weighted')))\n",
    "print('recall (mlp): ' + str(metrics.recall_score(y_test, y_pred, average='weighted')))\n",
    "print('f1 score (mlp all): ' + str(metrics.f1_score(y_test, y_pred, average=None)))\n",
    "print('recall (mlp all): ' + str(metrics.recall_score(y_test, y_pred, average=None)))\n",
    "print('precision (mlp all): ' + str(metrics.precision_score(y_test, y_pred, average=None)))"
   ]
  },
  {
   "cell_type": "code",
   "execution_count": 77,
   "metadata": {},
   "outputs": [
    {
     "data": {
      "text/plain": [
       "array([3, 3, 2, ..., 2, 6, 3])"
      ]
     },
     "execution_count": 77,
     "metadata": {},
     "output_type": "execute_result"
    }
   ],
   "source": [
    "svc = SVC(class_weight=weights)\n",
    "svc.fit(x_train, y_train)\n",
    "y_pred = svc.predict(x_test)\n",
    "y_pred"
   ]
  },
  {
   "cell_type": "code",
   "execution_count": 78,
   "metadata": {},
   "outputs": [
    {
     "name": "stdout",
     "output_type": "stream",
     "text": [
      "accuracy (svc): 0.46938775510204084\n",
      "f1 score (svc): 0.5768309317367691\n",
      "recall (svc): 0.4693877551020408\n",
      "f1 score (svc all): [0.         0.         0.3537415  0.6627907  0.37209302 0.\n",
      " 0.03305785 0.        ]\n",
      "recall (svc all): [0.         0.         1.         0.51409245 0.25396825 0.\n",
      " 0.20512821 0.        ]\n",
      "precision (svc all): [0.         0.         0.21487603 0.93251534 0.69565217 0.\n",
      " 0.01797753 0.        ]\n"
     ]
    },
    {
     "name": "stderr",
     "output_type": "stream",
     "text": [
      "/opt/conda/lib/python3.6/site-packages/sklearn/metrics/_classification.py:1272: UndefinedMetricWarning: Precision is ill-defined and being set to 0.0 in labels with no predicted samples. Use `zero_division` parameter to control this behavior.\n",
      "  _warn_prf(average, modifier, msg_start, len(result))\n"
     ]
    }
   ],
   "source": [
    "print('accuracy (svc): ' + str(metrics.accuracy_score(y_test, y_pred)))\n",
    "print('f1 score (svc): ' + str(metrics.f1_score(y_test, y_pred, average='weighted')))\n",
    "print('recall (svc): ' + str(metrics.recall_score(y_test, y_pred, average='weighted')))\n",
    "print('f1 score (svc all): ' + str(metrics.f1_score(y_test, y_pred, average=None)))\n",
    "print('recall (svc all): ' + str(metrics.recall_score(y_test, y_pred, average=None)))\n",
    "print('precision (svc all): ' + str(metrics.precision_score(y_test, y_pred, average=None)))"
   ]
  }
 ],
 "metadata": {
  "kernelspec": {
   "display_name": "Python 3",
   "language": "python",
   "name": "python3"
  },
  "language_info": {
   "codemirror_mode": {
    "name": "ipython",
    "version": 3
   },
   "file_extension": ".py",
   "mimetype": "text/x-python",
   "name": "python",
   "nbconvert_exporter": "python",
   "pygments_lexer": "ipython3",
   "version": "3.6.6"
  }
 },
 "nbformat": 4,
 "nbformat_minor": 4
}
